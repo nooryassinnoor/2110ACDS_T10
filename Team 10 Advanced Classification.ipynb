{
 "cells": [
  {
   "cell_type": "markdown",
   "id": "26402200",
   "metadata": {},
   "source": [
    "# EDSA - Climate Change Belief Analysis 2022\n",
    "© Explore Data Science Academy"
   ]
  },
  {
   "cell_type": "markdown",
   "id": "3525a2e8",
   "metadata": {},
   "source": [
    "---\n",
    "### Honour Code\n",
    "\n",
    "We {**Team 10**}, confirm - by submitting this document - that the solutions in this notebook are a result of our own work and that we abide by the [EDSA honour code](https://drive.google.com/file/d/1QDCjGZJ8-FmJE3bZdIQNwnJyQKPhHZBn/view?usp=sharing).\n",
    "\n",
    "Non-compliance with the honour code constitutes a material breach of contract."
   ]
  },
  {
   "cell_type": "markdown",
   "id": "ab6682d9",
   "metadata": {},
   "source": [
    "### Predict Overview: Predict an individual’s belief in climate change based on historical tweet data\n",
    "\n",
    "\n",
    "Many companies are built around lessening one’s environmental impact or carbon footprint. They offer products and services that are environmentally friendly and sustainable, in line with their values and ideals. They would like to determine how people perceive climate change and whether or not they believe it is a real threat. This would add to their market research efforts in gauging how their product/service may be received.\n",
    "\n",
    "With this context, we have created a Machine Learning model that is able to classify whether or not a person believes in climate change, based on their novel tweet data.\n",
    "\n",
    "Providing an accurate and robust solution to this task gives companies access to a broad base of consumer sentiment, spanning multiple demographic and geographic categories - thus increasing their insights and informing future marketing strategies."
   ]
  },
  {
   "cell_type": "markdown",
   "id": "707e3a33",
   "metadata": {},
   "source": [
    "<a id=\"cont\"></a>\n",
    "\n",
    "## Table of Contents\n",
    "\n",
    "<a href=#one>1. Importing Packages</a>\n",
    "\n",
    "<a href=#two>2. Loading Data</a>\n",
    "\n",
    "<a href=#three>3. Exploratory Data Analysis (EDA)</a>\n",
    "\n",
    "<a href=#four>4. Classification Metrics</a>\n",
    "\n",
    "<a href=#five>5. Modeling and Model Improvements</a>\n",
    "\n",
    "<a href=#six>6. Classifier Model Selection</a>\n",
    "\n",
    "<a href=#seven>7. Model Explanations</a>"
   ]
  },
  {
   "cell_type": "markdown",
   "id": "08590b6b",
   "metadata": {},
   "source": [
    " <a id=\"one\"></a>\n",
    "## 1. Importing Packages\n",
    "<a href=#cont>Back to Table of Contents</a>\n",
    "\n",
    "---"
   ]
  },
  {
   "cell_type": "code",
   "execution_count": 26,
   "id": "5d258758",
   "metadata": {},
   "outputs": [],
   "source": [
    "import nltk\n",
    "import numpy as np\n",
    "import pandas as pd\n",
    "import matplotlib.pyplot as plt\n",
    "\n",
    "%matplotlib inline\n",
    "import seaborn as sns\n",
    "import re\n",
    "\n",
    "import warnings\n",
    "warnings.filterwarnings('ignore')\n",
    "\n",
    "from sklearn.linear_model import LogisticRegression\n",
    "from sklearn.model_selection import train_test_split\n",
    "from sklearn.metrics import confusion_matrix\n",
    "from sklearn.metrics import classification_report"
   ]
  },
  {
   "cell_type": "markdown",
   "id": "4c3dbf41",
   "metadata": {},
   "source": [
    "<a id=\"two\"></a>\n",
    "## 2. Loading the Data\n",
    "<a class=\"anchor\" id=\"1.1\"></a>\n",
    "<a href=#cont>Back to Table of Contents</a>\n",
    "\n",
    "---"
   ]
  },
  {
   "cell_type": "code",
   "execution_count": 27,
   "id": "02c35b6f",
   "metadata": {
    "scrolled": true
   },
   "outputs": [
    {
     "data": {
      "text/html": [
       "<div>\n",
       "<style scoped>\n",
       "    .dataframe tbody tr th:only-of-type {\n",
       "        vertical-align: middle;\n",
       "    }\n",
       "\n",
       "    .dataframe tbody tr th {\n",
       "        vertical-align: top;\n",
       "    }\n",
       "\n",
       "    .dataframe thead th {\n",
       "        text-align: right;\n",
       "    }\n",
       "</style>\n",
       "<table border=\"1\" class=\"dataframe\">\n",
       "  <thead>\n",
       "    <tr style=\"text-align: right;\">\n",
       "      <th></th>\n",
       "      <th>message</th>\n",
       "      <th>tweetid</th>\n",
       "    </tr>\n",
       "    <tr>\n",
       "      <th>sentiment</th>\n",
       "      <th></th>\n",
       "      <th></th>\n",
       "    </tr>\n",
       "  </thead>\n",
       "  <tbody>\n",
       "    <tr>\n",
       "      <th>1</th>\n",
       "      <td>PolySciMajor EPA chief doesn't think carbon di...</td>\n",
       "      <td>625221</td>\n",
       "    </tr>\n",
       "    <tr>\n",
       "      <th>1</th>\n",
       "      <td>It's not like we lack evidence of anthropogeni...</td>\n",
       "      <td>126103</td>\n",
       "    </tr>\n",
       "    <tr>\n",
       "      <th>2</th>\n",
       "      <td>RT @RawStory: Researchers say we have three ye...</td>\n",
       "      <td>698562</td>\n",
       "    </tr>\n",
       "    <tr>\n",
       "      <th>1</th>\n",
       "      <td>#TodayinMaker# WIRED : 2016 was a pivotal year...</td>\n",
       "      <td>573736</td>\n",
       "    </tr>\n",
       "    <tr>\n",
       "      <th>1</th>\n",
       "      <td>RT @SoyNovioDeTodas: It's 2016, and a racist, ...</td>\n",
       "      <td>466954</td>\n",
       "    </tr>\n",
       "  </tbody>\n",
       "</table>\n",
       "</div>"
      ],
      "text/plain": [
       "                                                     message  tweetid\n",
       "sentiment                                                            \n",
       "1          PolySciMajor EPA chief doesn't think carbon di...   625221\n",
       "1          It's not like we lack evidence of anthropogeni...   126103\n",
       "2          RT @RawStory: Researchers say we have three ye...   698562\n",
       "1          #TodayinMaker# WIRED : 2016 was a pivotal year...   573736\n",
       "1          RT @SoyNovioDeTodas: It's 2016, and a racist, ...   466954"
      ]
     },
     "execution_count": 27,
     "metadata": {},
     "output_type": "execute_result"
    }
   ],
   "source": [
    "#Read the train data and view the first few entries\n",
    "df = pd.read_csv('train.csv', index_col=0)\n",
    "df.head()"
   ]
  },
  {
   "cell_type": "markdown",
   "id": "b5f7060d",
   "metadata": {},
   "source": [
    "<a id=\"three\"></a>\n",
    "## 3. Exploratory Data Analysis (EDA)\n",
    "<a class=\"anchor\" id=\"1.1\"></a>\n",
    "<a href=#cont>Back to Table of Contents</a>\n",
    "\n",
    "---"
   ]
  },
  {
   "cell_type": "code",
   "execution_count": 28,
   "id": "ec8843b9",
   "metadata": {
    "scrolled": true
   },
   "outputs": [
    {
     "name": "stdout",
     "output_type": "stream",
     "text": [
      "<class 'pandas.core.frame.DataFrame'>\n",
      "Int64Index: 15819 entries, 1 to 0\n",
      "Data columns (total 2 columns):\n",
      " #   Column   Non-Null Count  Dtype \n",
      "---  ------   --------------  ----- \n",
      " 0   message  15819 non-null  object\n",
      " 1   tweetid  15819 non-null  int64 \n",
      "dtypes: int64(1), object(1)\n",
      "memory usage: 370.8+ KB\n"
     ]
    }
   ],
   "source": [
    "df.info()"
   ]
  },
  {
   "cell_type": "markdown",
   "id": "3919225d",
   "metadata": {},
   "source": [
    "We observed that our dataset has 3 columns and a total of 15,819 rows. We also observed the dataset contains two numerical varibles and one categorical variable. We also observed that the size of the data is 370.9+ KB."
   ]
  },
  {
   "cell_type": "code",
   "execution_count": 29,
   "id": "4827239a",
   "metadata": {
    "scrolled": true
   },
   "outputs": [
    {
     "data": {
      "text/html": [
       "<div>\n",
       "<style scoped>\n",
       "    .dataframe tbody tr th:only-of-type {\n",
       "        vertical-align: middle;\n",
       "    }\n",
       "\n",
       "    .dataframe tbody tr th {\n",
       "        vertical-align: top;\n",
       "    }\n",
       "\n",
       "    .dataframe thead th {\n",
       "        text-align: right;\n",
       "    }\n",
       "</style>\n",
       "<table border=\"1\" class=\"dataframe\">\n",
       "  <thead>\n",
       "    <tr style=\"text-align: right;\">\n",
       "      <th></th>\n",
       "      <th>tweetid</th>\n",
       "    </tr>\n",
       "  </thead>\n",
       "  <tbody>\n",
       "    <tr>\n",
       "      <th>count</th>\n",
       "      <td>15819.000000</td>\n",
       "    </tr>\n",
       "    <tr>\n",
       "      <th>mean</th>\n",
       "      <td>501719.433656</td>\n",
       "    </tr>\n",
       "    <tr>\n",
       "      <th>std</th>\n",
       "      <td>289045.983132</td>\n",
       "    </tr>\n",
       "    <tr>\n",
       "      <th>min</th>\n",
       "      <td>6.000000</td>\n",
       "    </tr>\n",
       "    <tr>\n",
       "      <th>25%</th>\n",
       "      <td>253207.500000</td>\n",
       "    </tr>\n",
       "    <tr>\n",
       "      <th>50%</th>\n",
       "      <td>502291.000000</td>\n",
       "    </tr>\n",
       "    <tr>\n",
       "      <th>75%</th>\n",
       "      <td>753769.000000</td>\n",
       "    </tr>\n",
       "    <tr>\n",
       "      <th>max</th>\n",
       "      <td>999888.000000</td>\n",
       "    </tr>\n",
       "  </tbody>\n",
       "</table>\n",
       "</div>"
      ],
      "text/plain": [
       "             tweetid\n",
       "count   15819.000000\n",
       "mean   501719.433656\n",
       "std    289045.983132\n",
       "min         6.000000\n",
       "25%    253207.500000\n",
       "50%    502291.000000\n",
       "75%    753769.000000\n",
       "max    999888.000000"
      ]
     },
     "execution_count": 29,
     "metadata": {},
     "output_type": "execute_result"
    }
   ],
   "source": [
    "df.describe()"
   ]
  },
  {
   "cell_type": "markdown",
   "id": "0894f510",
   "metadata": {},
   "source": [
    "From the dataset, we've been able to see the mean and a statistical summary of the dataset. We hae also observed that the minimum value of the sentiment is **-1** while the maximum value is **2**"
   ]
  },
  {
   "cell_type": "code",
   "execution_count": 30,
   "id": "c1190f0c",
   "metadata": {
    "scrolled": false
   },
   "outputs": [
    {
     "data": {
      "text/plain": [
       "count                                                 15819\n",
       "unique                                                14229\n",
       "top       RT @StephenSchlegel: she's thinking about how ...\n",
       "freq                                                    307\n",
       "Name: message, dtype: object"
      ]
     },
     "execution_count": 30,
     "metadata": {},
     "output_type": "execute_result"
    }
   ],
   "source": [
    "df.message.describe().T"
   ]
  },
  {
   "cell_type": "markdown",
   "id": "5b507596",
   "metadata": {},
   "source": [
    "We observed that there were **14,229** unique values out of the total of **15,819**"
   ]
  },
  {
   "cell_type": "code",
   "execution_count": 31,
   "id": "eccb2a7d",
   "metadata": {
    "scrolled": true
   },
   "outputs": [
    {
     "data": {
      "text/plain": [
       "message    0\n",
       "tweetid    0\n",
       "dtype: int64"
      ]
     },
     "execution_count": 31,
     "metadata": {},
     "output_type": "execute_result"
    }
   ],
   "source": [
    "#Checking for null objects in train data\n",
    "df.isnull().sum()"
   ]
  },
  {
   "cell_type": "markdown",
   "id": "5a8c3939",
   "metadata": {},
   "source": [
    "It is interesting to know that the dataset has no null values which means all entries were appropriately recorded."
   ]
  },
  {
   "cell_type": "code",
   "execution_count": 32,
   "id": "aaf577fa",
   "metadata": {
    "scrolled": false
   },
   "outputs": [
    {
     "data": {
      "text/plain": [
       "tweetid   -0.008471\n",
       "dtype: float64"
      ]
     },
     "execution_count": 32,
     "metadata": {},
     "output_type": "execute_result"
    }
   ],
   "source": [
    "df.skew()"
   ]
  },
  {
   "cell_type": "markdown",
   "id": "640b9c82",
   "metadata": {},
   "source": [
    "Skewness indicate how symmetricall the data is. The feature tweetid is **fairly symmetrical.**"
   ]
  },
  {
   "cell_type": "code",
   "execution_count": 33,
   "id": "2e0aa8e0",
   "metadata": {
    "scrolled": false
   },
   "outputs": [
    {
     "data": {
      "text/plain": [
       "tweetid   -1.193356\n",
       "dtype: float64"
      ]
     },
     "execution_count": 33,
     "metadata": {},
     "output_type": "execute_result"
    }
   ],
   "source": [
    "df.kurtosis()"
   ]
  },
  {
   "cell_type": "markdown",
   "id": "a460ce17",
   "metadata": {},
   "source": [
    "Kurtosis measures the outliers in the data. The feature tweetid lack outliers"
   ]
  },
  {
   "cell_type": "markdown",
   "id": "ef3ce97e",
   "metadata": {},
   "source": [
    "Sentiment and tweetid = Weak negative correlation"
   ]
  },
  {
   "cell_type": "code",
   "execution_count": 34,
   "id": "7f61074d",
   "metadata": {
    "scrolled": true
   },
   "outputs": [
    {
     "data": {
      "image/png": "[encoded data removed]",
      "text/plain": [
       "<Figure size 432x288 with 1 Axes>"
      ]
     },
     "metadata": {
      "needs_background": "light"
     },
     "output_type": "display_data"
    }
   ],
   "source": [
    "sns.boxplot(x='tweetid', data=df);"
   ]
  },
  {
   "cell_type": "markdown",
   "id": "99de9683",
   "metadata": {},
   "source": [
    "**Text Cleaning**\n",
    "\n",
    "Removing Noise to get our data to a usable format. We will remove punctuation, make all words lowercase and remove any web urls."
   ]
  },
  {
   "cell_type": "code",
   "execution_count": 39,
   "id": "678327fb",
   "metadata": {},
   "outputs": [],
   "source": [
    "#remove urls \n",
    "pattern_url = r'http[s]?://(?:[A-Za-z]|[0-9]|[$-_@.&+]|[!*\\(\\),]|(?:%[0-9A-Fa-f][0-9A-Fa-f]))+'\n",
    "subs_url = r'url-web'\n",
    "df['no url'] = df['message'].replace(to_replace = pattern_url, value = subs_url, regex = True)"
   ]
  },
  {
   "cell_type": "code",
   "execution_count": 40,
   "id": "902b50be",
   "metadata": {},
   "outputs": [],
   "source": [
    "#remove punctuation\n",
    "import string\n",
    "def remove_punctuation(post):\n",
    "    return ''.join([l for l in post if l not in string.punctuation])"
   ]
  },
  {
   "cell_type": "code",
   "execution_count": 41,
   "id": "921aa8d1",
   "metadata": {},
   "outputs": [],
   "source": [
    "df['no punct'] = df['no url'].apply(remove_punctuation)"
   ]
  },
  {
   "cell_type": "markdown",
   "id": "f9bba8bf",
   "metadata": {},
   "source": [
    "Make lowercase"
   ]
  },
  {
   "cell_type": "code",
   "execution_count": 42,
   "id": "2f4ee719",
   "metadata": {},
   "outputs": [],
   "source": [
    "df['lower'] = df['no punct'].str.lower()"
   ]
  },
  {
   "cell_type": "markdown",
   "id": "cf5571a5",
   "metadata": {},
   "source": [
    "Remove Stopwords"
   ]
  },
  {
   "cell_type": "code",
   "execution_count": 43,
   "id": "e7200b80",
   "metadata": {},
   "outputs": [],
   "source": [
    "from nltk.corpus import stopwords\n",
    "def remove_stop_words(tokens):    \n",
    "    return [t for t in tokens if t not in stopwords.words('english')]"
   ]
  },
  {
   "cell_type": "code",
   "execution_count": 44,
   "id": "9b0e247e",
   "metadata": {},
   "outputs": [],
   "source": [
    "df['stopwords'] = df['lower'].apply(remove_stop_words)"
   ]
  },
  {
   "cell_type": "markdown",
   "id": "95d71b86",
   "metadata": {},
   "source": [
    "Tokenisation"
   ]
  },
  {
   "cell_type": "code",
   "execution_count": 45,
   "id": "04463892",
   "metadata": {},
   "outputs": [],
   "source": [
    "from nltk.tokenize import word_tokenize, TreebankWordTokenizer\n",
    "tokeniser = TreebankWordTokenizer()\n",
    "df['tokens'] = df['message'].apply(tokeniser.tokenize)"
   ]
  },
  {
   "cell_type": "markdown",
   "id": "f93c592c",
   "metadata": {},
   "source": [
    "Stemming"
   ]
  },
  {
   "cell_type": "code",
   "execution_count": 46,
   "id": "5ccf44dc",
   "metadata": {},
   "outputs": [],
   "source": [
    "from nltk import SnowballStemmer"
   ]
  },
  {
   "cell_type": "code",
   "execution_count": 47,
   "id": "32f8beeb",
   "metadata": {},
   "outputs": [],
   "source": [
    "# find the stem of each word in words\n",
    "stemmer = SnowballStemmer('english')\n",
    "def df_stemmer(words, stemmer):\n",
    "    return [stemmer.stem(word) for word in words]"
   ]
  },
  {
   "cell_type": "code",
   "execution_count": 48,
   "id": "a3695446",
   "metadata": {},
   "outputs": [],
   "source": [
    "df['stem'] = df['tokens'].apply(df_stemmer, args=(stemmer, ))"
   ]
  },
  {
   "cell_type": "markdown",
   "id": "8351d88b",
   "metadata": {},
   "source": [
    "Lemmatisation"
   ]
  },
  {
   "cell_type": "code",
   "execution_count": 49,
   "id": "dca3e803",
   "metadata": {},
   "outputs": [
    {
     "name": "stderr",
     "output_type": "stream",
     "text": [
      "[nltk_data] Downloading package wordnet to\n",
      "[nltk_data]     /Users/dianaokeyo/nltk_data...\n",
      "[nltk_data]   Package wordnet is already up-to-date!\n"
     ]
    }
   ],
   "source": [
    "from nltk.stem import WordNetLemmatizer\n",
    "nltk.download('wordnet')\n",
    "\n",
    "lemmatizer = WordNetLemmatizer()\n",
    "def df_lemma(words, lemmatizer):\n",
    "    return [lemmatizer.lemmatize(word) for word in words]    "
   ]
  },
  {
   "cell_type": "code",
   "execution_count": 50,
   "id": "f68f7d97",
   "metadata": {},
   "outputs": [],
   "source": [
    "df['lemma'] = df['tokens'].apply(df_lemma, args=(lemmatizer, ))"
   ]
  },
  {
   "cell_type": "markdown",
   "id": "a22d7a53",
   "metadata": {},
   "source": [
    "Count Vectorizer"
   ]
  },
  {
   "cell_type": "code",
   "execution_count": 51,
   "id": "70c9b7c4",
   "metadata": {},
   "outputs": [
    {
     "data": {
      "text/plain": [
       "CountVectorizer(min_df=2)"
      ]
     },
     "execution_count": 51,
     "metadata": {},
     "output_type": "execute_result"
    }
   ],
   "source": [
    "from sklearn.feature_extraction.text import CountVectorizer\n",
    "vect = CountVectorizer()\n",
    "\n",
    "\n",
    "# remove English stop words\n",
    "vect = CountVectorizer(stop_words='english')\n",
    "\n",
    "# include 1-grams and 2-grams\n",
    "vect = CountVectorizer(ngram_range=(1, 2))\n",
    "\n",
    "# ignore terms that appear in more than 50% of the documents\n",
    "vect = CountVectorizer(max_df=0.5)\n",
    "\n",
    "\n",
    "# only keep terms that appear in at least 2 documents\n",
    "vect = CountVectorizer(min_df=2)\n",
    "\n",
    "vect.fit(df['message'])"
   ]
  },
  {
   "cell_type": "code",
   "execution_count": 63,
   "id": "2e5f9902",
   "metadata": {
    "scrolled": true
   },
   "outputs": [
    {
     "data": {
      "text/plain": [
       "sentiment\n",
       "1    PolySciMajor EPA chief doesn't think carbon di...\n",
       "1    It's not like we lack evidence of anthropogeni...\n",
       "2    RT @RawStory: Researchers say we have three ye...\n",
       "1    #TodayinMaker# WIRED : 2016 was a pivotal year...\n",
       "1    RT @SoyNovioDeTodas: It's 2016, and a racist, ...\n",
       "Name: message, dtype: object"
      ]
     },
     "execution_count": 63,
     "metadata": {},
     "output_type": "execute_result"
    }
   ],
   "source": [
    "df.message.head()"
   ]
  },
  {
   "cell_type": "markdown",
   "id": "17519071",
   "metadata": {},
   "source": [
    "<a id=\"four\"></a>\n",
    "## 4. Classification Metrics\n",
    "<a class=\"anchor\" id=\"1.1\"></a>\n",
    "<a href=#cont>Back to Table of Contents</a>\n",
    "\n",
    "---"
   ]
  },
  {
   "cell_type": "markdown",
   "id": "315f2084",
   "metadata": {},
   "source": [
    "Logistic Regression "
   ]
  },
  {
   "cell_type": "code",
   "execution_count": 68,
   "id": "9956845e",
   "metadata": {},
   "outputs": [],
   "source": [
    "# labels\n",
    "y = df['tweetid']\n",
    "\n",
    "# features\n",
    "X = df.drop('tweetid', axis=1)"
   ]
  },
  {
   "cell_type": "code",
   "execution_count": 69,
   "id": "2e468cc1",
   "metadata": {},
   "outputs": [],
   "source": [
    "from sklearn.preprocessing import StandardScaler"
   ]
  },
  {
   "cell_type": "code",
   "execution_count": 15,
   "id": "78e92815",
   "metadata": {},
   "outputs": [],
   "source": [
    "X_train, X_test, y_train, y_test = train_test_split(X_transformed, y, test_size=0.2, random_state=50)"
   ]
  },
  {
   "cell_type": "markdown",
   "id": "f0d7aef7",
   "metadata": {},
   "source": [
    "Our data is now ready. Let's train the logistic regression model.\n",
    "\n",
    "**Training**\n"
   ]
  },
  {
   "cell_type": "code",
   "execution_count": 16,
   "id": "61782c6f",
   "metadata": {},
   "outputs": [],
   "source": [
    "lr = LogisticRegression()"
   ]
  },
  {
   "cell_type": "code",
   "execution_count": null,
   "id": "83b60c22",
   "metadata": {},
   "outputs": [],
   "source": [
    "lr.fit(X_train, y_train)"
   ]
  },
  {
   "cell_type": "code",
   "execution_count": null,
   "id": "d5ee9f08",
   "metadata": {},
   "outputs": [],
   "source": [
    "lr.intercept_[0]"
   ]
  },
  {
   "cell_type": "markdown",
   "id": "9bf9b6bb",
   "metadata": {},
   "source": [
    "<a id=\"five\"></a>\n",
    "## 5. Modelling and Model Improvements\n",
    "<a class=\"anchor\" id=\"1.1\"></a>\n",
    "<a href=#cont>Back to Table of Contents</a>\n",
    "\n",
    "---"
   ]
  },
  {
   "cell_type": "code",
   "execution_count": null,
   "id": "a37820bb",
   "metadata": {},
   "outputs": [],
   "source": []
  },
  {
   "cell_type": "markdown",
   "id": "9ed6567c",
   "metadata": {},
   "source": [
    "<a id=\"six\"></a>\n",
    "## 6. Classifier Model Selection\n",
    "<a class=\"anchor\" id=\"1.1\"></a>\n",
    "<a href=#cont>Back to Table of Contents</a>\n",
    "\n",
    "---"
   ]
  },
  {
   "cell_type": "markdown",
   "id": "b3fc9b7c",
   "metadata": {},
   "source": [
    "<a id=\"seven\"></a>\n",
    "## 7. Model Explanations\n",
    "<a class=\"anchor\" id=\"1.1\"></a>\n",
    "<a href=#cont>Back to Table of Contents</a>\n",
    "\n",
    "---"
   ]
  },
  {
   "cell_type": "code",
   "execution_count": null,
   "id": "82310f16",
   "metadata": {},
   "outputs": [],
   "source": []
  }
 ],
 "metadata": {
  "kernelspec": {
   "display_name": "Python 3",
   "language": "python",
   "name": "python3"
  },
  "language_info": {
   "codemirror_mode": {
    "name": "ipython",
    "version": 3
   },
   "file_extension": ".py",
   "mimetype": "text/x-python",
   "name": "python",
   "nbconvert_exporter": "python",
   "pygments_lexer": "ipython3",
   "version": "3.8.8"
  }
 },
 "nbformat": 4,
 "nbformat_minor": 5
}
