{
 "cells": [
  {
   "cell_type": "markdown",
   "id": "4be1ec52",
   "metadata": {},
   "source": [
    "# EDSA - Climate Change Belief Analysis 2022\n",
    "© Explore Data Science Academy"
   ]
  },
  {
   "cell_type": "markdown",
   "id": "ccb9cf75",
   "metadata": {},
   "source": [
    "---\n",
    "### Honour Code\n",
    "\n",
    "We {**Team 10**}, confirm - by submitting this document - that the solutions in this notebook are a result of our own work and that we abide by the [EDSA honour code](https://drive.google.com/file/d/1QDCjGZJ8-FmJE3bZdIQNwnJyQKPhHZBn/view?usp=sharing).\n",
    "\n",
    "Non-compliance with the honour code constitutes a material breach of contract."
   ]
  },
  {
   "cell_type": "markdown",
   "id": "b3241644",
   "metadata": {},
   "source": [
    "### Predict Overview: Predict an individual’s belief in climate change based on historical tweet data\n",
    "\n",
    "\n",
    "Many companies are built around lessening one’s environmental impact or carbon footprint. They offer products and services that are environmentally friendly and sustainable, in line with their values and ideals. They would like to determine how people perceive climate change and whether or not they believe it is a real threat. This would add to their market research efforts in gauging how their product/service may be received.\n",
    "\n",
    "With this context, we have created a Machine Learning model that is able to classify whether or not a person believes in climate change, based on their novel tweet data.\n",
    "\n",
    "Providing an accurate and robust solution to this task gives companies access to a broad base of consumer sentiment, spanning multiple demographic and geographic categories - thus increasing their insights and informing future marketing strategies.\n",
    "We aim to classify the tweets as pro, neutral, anti and news.This will help us get a better insight on the netizens beliefs in climate change. We got the data from [Explore Data Science Academy](https://www.kaggle.com/competitions/edsa-climate-change-belief-analysis-2022).\n",
    "The major problem we faced classifying the data was imbalance. We explored the resampling methods to balance the data which could also cause an overfitting problem."
   ]
  },
  {
   "cell_type": "markdown",
   "id": "e79045d1",
   "metadata": {},
   "source": [
    "<a id=\"cont\"></a>\n",
    "\n",
    "## Table of Contents\n",
    "\n",
    "<a href=#one>1. Importing Packages</a>\n",
    "\n",
    "<a href=#two>2. Loading Data</a>\n",
    "\n",
    "<a href=#three>3. Exploratory Data Analysis (EDA)</a>\n",
    "\n",
    "<a href=#four>4. Feature Engineering</a>\n",
    "\n",
    "<a href=#five>5. Modeling</a>\n",
    "\n",
    "<a href=#six>6. Classifier Model Selection</a>\n",
    "\n",
    "<a href=#seven>7. Model Explanations</a>"
   ]
  },
  {
   "cell_type": "code",
   "execution_count": 4,
   "id": "eb786162",
   "metadata": {},
   "outputs": [
    {
     "name": "stdout",
     "output_type": "stream",
     "text": [
      "Collecting comet_ml\n",
      "  Using cached comet_ml-3.28.2-py2.py3-none-any.whl (342 kB)\n",
      "Requirement already satisfied: wrapt>=1.11.2 in /Users/dianaokeyo/opt/anaconda3/lib/python3.8/site-packages (from comet_ml) (1.12.1)\n",
      "Requirement already satisfied: requests>=2.18.4 in /Users/dianaokeyo/opt/anaconda3/lib/python3.8/site-packages (from comet_ml) (2.25.1)\n",
      "Collecting semantic-version>=2.8.0\n",
      "  Using cached semantic_version-2.9.0-py2.py3-none-any.whl (15 kB)\n",
      "Collecting nvidia-ml-py3>=7.352.0\n",
      "  Using cached nvidia-ml-py3-7.352.0.tar.gz (19 kB)\n",
      "  Preparing metadata (setup.py) ... \u001b[?25ldone\n",
      "\u001b[?25hRequirement already satisfied: six in /Users/dianaokeyo/opt/anaconda3/lib/python3.8/site-packages (from comet_ml) (1.15.0)\n",
      "Collecting dulwich!=0.20.33,>=0.20.6\n",
      "  Downloading dulwich-0.20.35-cp38-cp38-macosx_10_14_x86_64.whl (481 kB)\n",
      "\u001b[2K     \u001b[90m━━━━━━━━━━━━━━━━━━━━━━━━━━━━━━━━━━━━━\u001b[0m \u001b[32m481.9/481.9 KB\u001b[0m \u001b[31m275.6 kB/s\u001b[0m eta \u001b[36m0:00:00\u001b[0m00:01\u001b[0m00:01\u001b[0m\n",
      "\u001b[?25hRequirement already satisfied: jsonschema!=3.1.0,>=2.6.0 in /Users/dianaokeyo/opt/anaconda3/lib/python3.8/site-packages (from comet_ml) (3.2.0)\n",
      "Collecting websocket-client>=0.55.0\n",
      "  Downloading websocket_client-1.3.2-py3-none-any.whl (54 kB)\n",
      "\u001b[2K     \u001b[90m━━━━━━━━━━━━━━━━━━━━━━━━━━━━━━━━━━━━━━━\u001b[0m \u001b[32m54.3/54.3 KB\u001b[0m \u001b[31m331.3 kB/s\u001b[0m eta \u001b[36m0:00:00\u001b[0ma \u001b[36m0:00:01\u001b[0m\n",
      "\u001b[?25hCollecting everett[ini]>=1.0.1\n",
      "  Using cached everett-3.0.0-py2.py3-none-any.whl (35 kB)\n",
      "Collecting requests-toolbelt>=0.8.0\n",
      "  Using cached requests_toolbelt-0.9.1-py2.py3-none-any.whl (54 kB)\n",
      "Requirement already satisfied: wurlitzer>=1.0.2 in /Users/dianaokeyo/opt/anaconda3/lib/python3.8/site-packages (from comet_ml) (2.1.0)\n",
      "Requirement already satisfied: urllib3>=1.24.1 in /Users/dianaokeyo/opt/anaconda3/lib/python3.8/site-packages (from dulwich!=0.20.33,>=0.20.6->comet_ml) (1.26.4)\n",
      "Requirement already satisfied: certifi in /Users/dianaokeyo/opt/anaconda3/lib/python3.8/site-packages (from dulwich!=0.20.33,>=0.20.6->comet_ml) (2020.12.5)\n",
      "Collecting configobj\n",
      "  Using cached configobj-5.0.6.tar.gz (33 kB)\n",
      "  Preparing metadata (setup.py) ... \u001b[?25ldone\n",
      "\u001b[?25hRequirement already satisfied: setuptools in /Users/dianaokeyo/opt/anaconda3/lib/python3.8/site-packages (from jsonschema!=3.1.0,>=2.6.0->comet_ml) (52.0.0.post20210125)\n",
      "Requirement already satisfied: pyrsistent>=0.14.0 in /Users/dianaokeyo/opt/anaconda3/lib/python3.8/site-packages (from jsonschema!=3.1.0,>=2.6.0->comet_ml) (0.17.3)\n",
      "Requirement already satisfied: attrs>=17.4.0 in /Users/dianaokeyo/opt/anaconda3/lib/python3.8/site-packages (from jsonschema!=3.1.0,>=2.6.0->comet_ml) (20.3.0)\n",
      "Requirement already satisfied: idna<3,>=2.5 in /Users/dianaokeyo/opt/anaconda3/lib/python3.8/site-packages (from requests>=2.18.4->comet_ml) (2.10)\n",
      "Requirement already satisfied: chardet<5,>=3.0.2 in /Users/dianaokeyo/opt/anaconda3/lib/python3.8/site-packages (from requests>=2.18.4->comet_ml) (4.0.0)\n",
      "Building wheels for collected packages: nvidia-ml-py3, configobj\n",
      "  Building wheel for nvidia-ml-py3 (setup.py) ... \u001b[?25ldone\n",
      "\u001b[?25h  Created wheel for nvidia-ml-py3: filename=nvidia_ml_py3-7.352.0-py3-none-any.whl size=19191 sha256=3644087c14215fce47690924b591d56ae1d1d5d2b24bb631ee442be9c5672eed\n",
      "  Stored in directory: /Users/dianaokeyo/Library/Caches/pip/wheels/b9/b1/68/cb4feab29709d4155310d29a421389665dcab9eb3b679b527b\n",
      "  Building wheel for configobj (setup.py) ... \u001b[?25ldone\n",
      "\u001b[?25h  Created wheel for configobj: filename=configobj-5.0.6-py3-none-any.whl size=34547 sha256=e64f02d3b8932d2550b35c0d6422de51985819f36256f65e13f6aa6549190a95\n",
      "  Stored in directory: /Users/dianaokeyo/Library/Caches/pip/wheels/34/2a/24/a490264ae9041fd48f778ff393526572c80bb498ddecb07ea5\n",
      "Successfully built nvidia-ml-py3 configobj\n",
      "Installing collected packages: nvidia-ml-py3, everett, websocket-client, semantic-version, dulwich, configobj, requests-toolbelt, comet_ml\n",
      "Successfully installed comet_ml-3.28.2 configobj-5.0.6 dulwich-0.20.35 everett-3.0.0 nvidia-ml-py3-7.352.0 requests-toolbelt-0.9.1 semantic-version-2.9.0 websocket-client-1.3.2\n",
      "Note: you may need to restart the kernel to use updated packages.\n"
     ]
    }
   ],
   "source": [
    "pip install comet_ml"
   ]
  },
  {
   "cell_type": "code",
   "execution_count": 1,
   "id": "38cb4e71",
   "metadata": {},
   "outputs": [],
   "source": [
    "import comet_ml"
   ]
  },
  {
   "cell_type": "code",
   "execution_count": 2,
   "id": "6e637fb6",
   "metadata": {},
   "outputs": [],
   "source": [
    "from comet_ml import Experiment"
   ]
  },
  {
   "cell_type": "code",
   "execution_count": 3,
   "id": "1bf93226",
   "metadata": {},
   "outputs": [
    {
     "name": "stderr",
     "output_type": "stream",
     "text": [
      "COMET WARNING: As you are running in a Jupyter environment, you will need to call `experiment.end()` when finished to ensure all metrics and code are logged before exiting.\n",
      "COMET INFO: Experiment is live on comet.ml https://www.comet.ml/deelianne/general/07a6dcc2646f4461b41dde8bc06d283b\n",
      "\n",
      "COMET WARNING: Error exporting current conda environment\n"
     ]
    }
   ],
   "source": [
    "experiment = Experiment(\"mmOpPSheJulnOrFlE3B5KW2e1\")"
   ]
  },
  {
   "cell_type": "markdown",
   "id": "4453d7b1",
   "metadata": {},
   "source": [
    " <a id=\"one\"></a>\n",
    "## 1. Importing Packages\n",
    "<a href=#cont>Back to Table of Contents</a>\n",
    "\n",
    "---"
   ]
  },
  {
   "cell_type": "code",
   "execution_count": 4,
   "id": "293ba799",
   "metadata": {},
   "outputs": [
    {
     "name": "stderr",
     "output_type": "stream",
     "text": [
      "[nltk_data] Downloading package wordnet to\n",
      "[nltk_data]     /Users/dianaokeyo/nltk_data...\n",
      "[nltk_data]   Package wordnet is already up-to-date!\n",
      "[nltk_data] Downloading package averaged_perceptron_tagger to\n",
      "[nltk_data]     /Users/dianaokeyo/nltk_data...\n",
      "[nltk_data]   Package averaged_perceptron_tagger is already up-to-\n",
      "[nltk_data]       date!\n"
     ]
    }
   ],
   "source": [
    "import pandas as pd\n",
    "import numpy as np\n",
    "import matplotlib.pyplot as plt\n",
    "import seaborn as sns\n",
    "from sklearn.utils import resample\n",
    "import nltk\n",
    "import spacy\n",
    "from nltk.tokenize import word_tokenize\n",
    "import re\n",
    "from sklearn import preprocessing as p\n",
    "import nltk\n",
    "from nltk import TreebankWordTokenizer, SnowballStemmer, PorterStemmer\n",
    "from nltk import SnowballStemmer, PorterStemmer, LancasterStemmer\n",
    "from nltk.stem import WordNetLemmatizer\n",
    "from nltk.corpus import stopwords\n",
    "from nltk import pos_tag\n",
    "from nltk.tokenize import word_tokenize\n",
    "from nltk.corpus import stopwords, wordnet \n",
    "from nltk.stem import WordNetLemmatizer\n",
    "nltk.download('wordnet')\n",
    "from sklearn.feature_extraction.text import CountVectorizer\n",
    "from sklearn.utils import resample\n",
    "from sklearn.feature_extraction.text import CountVectorizer\n",
    "from sklearn import preprocessing\n",
    "from sklearn.feature_extraction.text import TfidfVectorizer\n",
    "from sklearn.naive_bayes import MultinomialNB\n",
    "from sklearn import svm\n",
    "from sklearn.model_selection import train_test_split\n",
    "from sklearn.linear_model import LogisticRegression\n",
    "from sklearn.metrics import accuracy_score\n",
    "from sklearn.preprocessing import LabelEncoder\n",
    "from sklearn.preprocessing import MinMaxScaler\n",
    "from sklearn.ensemble import RandomForestClassifier\n",
    "from sklearn.metrics import roc_auc_score\n",
    "from sklearn.metrics import recall_score\n",
    "from sklearn.metrics import precision_score\n",
    "from sklearn.metrics import f1_score\n",
    "from sklearn.model_selection import GridSearchCV\n",
    "from sklearn.pipeline import make_pipeline\n",
    "from sklearn.naive_bayes import GaussianNB, BernoulliNB\n",
    "from sklearn.neighbors import KNeighborsClassifier\n",
    "from sklearn.metrics import classification_report, accuracy_score, log_loss\n",
    "nltk.download('averaged_perceptron_tagger')\n",
    "from sklearn.svm import SVC\n",
    "from nltk import pos_tag\n",
    "from wordcloud import WordCloud\n",
    "from tqdm.notebook import tqdm, trange\n",
    "import itertools"
   ]
  },
  {
   "cell_type": "markdown",
   "id": "3599e0d3",
   "metadata": {},
   "source": [
    "<a id=\"two\"></a>\n",
    "## 2. Loading the Data\n",
    "<a class=\"anchor\" id=\"1.1\"></a>\n",
    "<a href=#cont>Back to Table of Contents</a>\n",
    "\n",
    "---"
   ]
  },
  {
   "cell_type": "code",
   "execution_count": 5,
   "id": "5e41f8cb",
   "metadata": {},
   "outputs": [],
   "source": [
    "#Read the train data and view the first few entries\n",
    "df=pd.read_csv('train.csv')"
   ]
  },
  {
   "cell_type": "code",
   "execution_count": 6,
   "id": "6a9b033b",
   "metadata": {
    "scrolled": true
   },
   "outputs": [
    {
     "data": {
      "text/html": [
       "<div>\n",
       "<style scoped>\n",
       "    .dataframe tbody tr th:only-of-type {\n",
       "        vertical-align: middle;\n",
       "    }\n",
       "\n",
       "    .dataframe tbody tr th {\n",
       "        vertical-align: top;\n",
       "    }\n",
       "\n",
       "    .dataframe thead th {\n",
       "        text-align: right;\n",
       "    }\n",
       "</style>\n",
       "<table border=\"1\" class=\"dataframe\">\n",
       "  <thead>\n",
       "    <tr style=\"text-align: right;\">\n",
       "      <th></th>\n",
       "      <th>sentiment</th>\n",
       "      <th>message</th>\n",
       "      <th>tweetid</th>\n",
       "    </tr>\n",
       "  </thead>\n",
       "  <tbody>\n",
       "    <tr>\n",
       "      <th>0</th>\n",
       "      <td>1</td>\n",
       "      <td>PolySciMajor EPA chief doesn't think carbon di...</td>\n",
       "      <td>625221</td>\n",
       "    </tr>\n",
       "    <tr>\n",
       "      <th>1</th>\n",
       "      <td>1</td>\n",
       "      <td>It's not like we lack evidence of anthropogeni...</td>\n",
       "      <td>126103</td>\n",
       "    </tr>\n",
       "    <tr>\n",
       "      <th>2</th>\n",
       "      <td>2</td>\n",
       "      <td>RT @RawStory: Researchers say we have three ye...</td>\n",
       "      <td>698562</td>\n",
       "    </tr>\n",
       "    <tr>\n",
       "      <th>3</th>\n",
       "      <td>1</td>\n",
       "      <td>#TodayinMaker# WIRED : 2016 was a pivotal year...</td>\n",
       "      <td>573736</td>\n",
       "    </tr>\n",
       "    <tr>\n",
       "      <th>4</th>\n",
       "      <td>1</td>\n",
       "      <td>RT @SoyNovioDeTodas: It's 2016, and a racist, ...</td>\n",
       "      <td>466954</td>\n",
       "    </tr>\n",
       "  </tbody>\n",
       "</table>\n",
       "</div>"
      ],
      "text/plain": [
       "   sentiment                                            message  tweetid\n",
       "0          1  PolySciMajor EPA chief doesn't think carbon di...   625221\n",
       "1          1  It's not like we lack evidence of anthropogeni...   126103\n",
       "2          2  RT @RawStory: Researchers say we have three ye...   698562\n",
       "3          1  #TodayinMaker# WIRED : 2016 was a pivotal year...   573736\n",
       "4          1  RT @SoyNovioDeTodas: It's 2016, and a racist, ...   466954"
      ]
     },
     "execution_count": 6,
     "metadata": {},
     "output_type": "execute_result"
    }
   ],
   "source": [
    "df.head()"
   ]
  },
  {
   "cell_type": "markdown",
   "id": "18a52e9b",
   "metadata": {},
   "source": [
    "<a id=\"three\"></a>\n",
    "## 3. Exploratory Data Analysis (EDA)\n",
    "<a class=\"anchor\" id=\"1.1\"></a>\n",
    "<a href=#cont>Back to Table of Contents</a>\n",
    "\n",
    "---"
   ]
  },
  {
   "cell_type": "markdown",
   "id": "49049665",
   "metadata": {},
   "source": [
    "**Exploratory data analysis (EDA)** is used to analyze and investigate data sets and summarize their main characteristics, often employing data visualization methods. It helps determine how best to manipulate data sources to get the answers you need, making it easier to discover patterns, spot anomalies, test a hypothesis, or check assumptions.\n",
    "\n",
    "EDA is primarily  provides a better understanding of data set variables and the relationships between them. It can also help determine if the statistical techniques you are considering for data analysis are appropriate. \n",
    "The main purpose of EDA is to help look at data before making any assumptions. It can help identify obvious errors, as well as better understand patterns within the data, detect outliers or anomalous events, find interesting relations among the variables.\n",
    "\n",
    "[Source](https://www.ibm.com/cloud/learn/exploratory-data-analysis)."
   ]
  },
  {
   "cell_type": "code",
   "execution_count": 7,
   "id": "237fff69",
   "metadata": {},
   "outputs": [
    {
     "name": "stdout",
     "output_type": "stream",
     "text": [
      "<class 'pandas.core.frame.DataFrame'>\n",
      "RangeIndex: 15819 entries, 0 to 15818\n",
      "Data columns (total 3 columns):\n",
      " #   Column     Non-Null Count  Dtype \n",
      "---  ------     --------------  ----- \n",
      " 0   sentiment  15819 non-null  int64 \n",
      " 1   message    15819 non-null  object\n",
      " 2   tweetid    15819 non-null  int64 \n",
      "dtypes: int64(2), object(1)\n",
      "memory usage: 370.9+ KB\n"
     ]
    }
   ],
   "source": [
    "df.info()"
   ]
  },
  {
   "cell_type": "markdown",
   "id": "20691459",
   "metadata": {},
   "source": [
    "We observed that our dataset has 3 columns and a total of 15,819 rows. We also observed the dataset contains two numerical varibles and one categorical variable. We also observed that the size of the data is 370.9+ KB."
   ]
  },
  {
   "cell_type": "code",
   "execution_count": 8,
   "id": "3ff72197",
   "metadata": {
    "scrolled": true
   },
   "outputs": [
    {
     "data": {
      "text/html": [
       "<div>\n",
       "<style scoped>\n",
       "    .dataframe tbody tr th:only-of-type {\n",
       "        vertical-align: middle;\n",
       "    }\n",
       "\n",
       "    .dataframe tbody tr th {\n",
       "        vertical-align: top;\n",
       "    }\n",
       "\n",
       "    .dataframe thead th {\n",
       "        text-align: right;\n",
       "    }\n",
       "</style>\n",
       "<table border=\"1\" class=\"dataframe\">\n",
       "  <thead>\n",
       "    <tr style=\"text-align: right;\">\n",
       "      <th></th>\n",
       "      <th>sentiment</th>\n",
       "      <th>tweetid</th>\n",
       "    </tr>\n",
       "  </thead>\n",
       "  <tbody>\n",
       "    <tr>\n",
       "      <th>count</th>\n",
       "      <td>15819.000000</td>\n",
       "      <td>15819.000000</td>\n",
       "    </tr>\n",
       "    <tr>\n",
       "      <th>mean</th>\n",
       "      <td>0.917504</td>\n",
       "      <td>501719.433656</td>\n",
       "    </tr>\n",
       "    <tr>\n",
       "      <th>std</th>\n",
       "      <td>0.836537</td>\n",
       "      <td>289045.983132</td>\n",
       "    </tr>\n",
       "    <tr>\n",
       "      <th>min</th>\n",
       "      <td>-1.000000</td>\n",
       "      <td>6.000000</td>\n",
       "    </tr>\n",
       "    <tr>\n",
       "      <th>25%</th>\n",
       "      <td>1.000000</td>\n",
       "      <td>253207.500000</td>\n",
       "    </tr>\n",
       "    <tr>\n",
       "      <th>50%</th>\n",
       "      <td>1.000000</td>\n",
       "      <td>502291.000000</td>\n",
       "    </tr>\n",
       "    <tr>\n",
       "      <th>75%</th>\n",
       "      <td>1.000000</td>\n",
       "      <td>753769.000000</td>\n",
       "    </tr>\n",
       "    <tr>\n",
       "      <th>max</th>\n",
       "      <td>2.000000</td>\n",
       "      <td>999888.000000</td>\n",
       "    </tr>\n",
       "  </tbody>\n",
       "</table>\n",
       "</div>"
      ],
      "text/plain": [
       "          sentiment        tweetid\n",
       "count  15819.000000   15819.000000\n",
       "mean       0.917504  501719.433656\n",
       "std        0.836537  289045.983132\n",
       "min       -1.000000       6.000000\n",
       "25%        1.000000  253207.500000\n",
       "50%        1.000000  502291.000000\n",
       "75%        1.000000  753769.000000\n",
       "max        2.000000  999888.000000"
      ]
     },
     "execution_count": 8,
     "metadata": {},
     "output_type": "execute_result"
    }
   ],
   "source": [
    "df.describe()"
   ]
  },
  {
   "cell_type": "markdown",
   "id": "7f85d7e9",
   "metadata": {},
   "source": [
    "From the dataset, we've been able to see the mean and a statistical summary of the dataset. We have also observed that the minimum value of the sentiment is **-1** while the maximum value is **2**"
   ]
  },
  {
   "cell_type": "code",
   "execution_count": 9,
   "id": "f3a58a17",
   "metadata": {
    "scrolled": true
   },
   "outputs": [
    {
     "data": {
      "text/plain": [
       "sentiment    0\n",
       "message      0\n",
       "tweetid      0\n",
       "dtype: int64"
      ]
     },
     "execution_count": 9,
     "metadata": {},
     "output_type": "execute_result"
    }
   ],
   "source": [
    "#Checking for null objects in train data\n",
    "df.isnull().sum()"
   ]
  },
  {
   "cell_type": "markdown",
   "id": "3e541ad9",
   "metadata": {},
   "source": [
    "The dataset has no null values which means all entries were appropriately recorded."
   ]
  },
  {
   "cell_type": "code",
   "execution_count": 10,
   "id": "2f1bc449",
   "metadata": {},
   "outputs": [],
   "source": [
    "#from copy import deepcopy\n",
    "#eda = deepcopy(df)"
   ]
  },
  {
   "cell_type": "code",
   "execution_count": 10,
   "id": "56ff390c",
   "metadata": {},
   "outputs": [
    {
     "data": {
      "text/html": [
       "<div>\n",
       "<style scoped>\n",
       "    .dataframe tbody tr th:only-of-type {\n",
       "        vertical-align: middle;\n",
       "    }\n",
       "\n",
       "    .dataframe tbody tr th {\n",
       "        vertical-align: top;\n",
       "    }\n",
       "\n",
       "    .dataframe thead th {\n",
       "        text-align: right;\n",
       "    }\n",
       "</style>\n",
       "<table border=\"1\" class=\"dataframe\">\n",
       "  <thead>\n",
       "    <tr style=\"text-align: right;\">\n",
       "      <th></th>\n",
       "      <th>sentiment</th>\n",
       "      <th>message</th>\n",
       "      <th>tweetid</th>\n",
       "    </tr>\n",
       "  </thead>\n",
       "  <tbody>\n",
       "    <tr>\n",
       "      <th>0</th>\n",
       "      <td>Pro</td>\n",
       "      <td>PolySciMajor EPA chief doesn't think carbon di...</td>\n",
       "      <td>625221</td>\n",
       "    </tr>\n",
       "    <tr>\n",
       "      <th>1</th>\n",
       "      <td>Pro</td>\n",
       "      <td>It's not like we lack evidence of anthropogeni...</td>\n",
       "      <td>126103</td>\n",
       "    </tr>\n",
       "    <tr>\n",
       "      <th>2</th>\n",
       "      <td>News</td>\n",
       "      <td>RT @RawStory: Researchers say we have three ye...</td>\n",
       "      <td>698562</td>\n",
       "    </tr>\n",
       "    <tr>\n",
       "      <th>3</th>\n",
       "      <td>Pro</td>\n",
       "      <td>#TodayinMaker# WIRED : 2016 was a pivotal year...</td>\n",
       "      <td>573736</td>\n",
       "    </tr>\n",
       "    <tr>\n",
       "      <th>4</th>\n",
       "      <td>Pro</td>\n",
       "      <td>RT @SoyNovioDeTodas: It's 2016, and a racist, ...</td>\n",
       "      <td>466954</td>\n",
       "    </tr>\n",
       "  </tbody>\n",
       "</table>\n",
       "</div>"
      ],
      "text/plain": [
       "  sentiment                                            message  tweetid\n",
       "0       Pro  PolySciMajor EPA chief doesn't think carbon di...   625221\n",
       "1       Pro  It's not like we lack evidence of anthropogeni...   126103\n",
       "2      News  RT @RawStory: Researchers say we have three ye...   698562\n",
       "3       Pro  #TodayinMaker# WIRED : 2016 was a pivotal year...   573736\n",
       "4       Pro  RT @SoyNovioDeTodas: It's 2016, and a racist, ...   466954"
      ]
     },
     "execution_count": 10,
     "metadata": {},
     "output_type": "execute_result"
    }
   ],
   "source": [
    "sentiment_num2name = {\n",
    "    -1: \"Anti\",\n",
    "     0: \"Neutral\",\n",
    "     1: \"Pro\",\n",
    "     2: \"News\",\n",
    "}\n",
    "df[\"sentiment\"] = df[\"sentiment\"].apply(lambda num: sentiment_num2name[num])\n",
    "df.head()"
   ]
  },
  {
   "cell_type": "code",
   "execution_count": 11,
   "id": "80bcf7a6",
   "metadata": {
    "scrolled": false
   },
   "outputs": [
    {
     "name": "stderr",
     "output_type": "stream",
     "text": [
      "/Users/dianaokeyo/opt/anaconda3/lib/python3.8/site-packages/seaborn/_decorators.py:36: FutureWarning: Pass the following variable as a keyword arg: x. From version 0.12, the only valid positional argument will be `data`, and passing other arguments without an explicit keyword will result in an error or misinterpretation.\n",
      "  warnings.warn(\n"
     ]
    },
    {
     "data": {
      "image/png": "[encoded data removed]",
      "text/plain": [
       "<Figure size 2000x1000 with 2 Axes>"
      ]
     },
     "metadata": {
      "needs_background": "light"
     },
     "output_type": "display_data"
    },
    {
     "data": {
      "text/plain": [
       "<Figure size 432x288 with 0 Axes>"
      ]
     },
     "metadata": {},
     "output_type": "display_data"
    }
   ],
   "source": [
    "fig, axes = plt.subplots(1, 2, figsize=(20, 10), dpi=100)\n",
    "\n",
    "sns.countplot(df[\"sentiment\"], ax=axes[0])\n",
    "labels = list(sentiment_num2name.values())\n",
    "\n",
    "axes[1].pie(df[\"sentiment\"].value_counts(),\n",
    "            labels=labels,\n",
    "            autopct=\"%1.0f%%\",\n",
    "            startangle=90,\n",
    "            explode=tuple([0.1] * len(labels)))\n",
    "\n",
    "fig.suptitle(\"Distribution of Tweets\", fontsize=20)\n",
    "plt.show()\n",
    "plt.savefig('Distribution of Tweets.png', dpi=300, bbox_inches='tight')"
   ]
  },
  {
   "cell_type": "code",
   "execution_count": 12,
   "id": "1ae5568c",
   "metadata": {
    "scrolled": true
   },
   "outputs": [
    {
     "data": {
      "application/vnd.jupyter.widget-view+json": {
       "model_id": "77b06e01872841cca4ad3ff10085548c",
       "version_major": 2,
       "version_minor": 0
      },
      "text/plain": [
       "  0%|          | 0/4 [00:00<?, ?it/s]"
      ]
     },
     "metadata": {},
     "output_type": "display_data"
    },
    {
     "data": {
      "text/html": [
       "<div>\n",
       "<style scoped>\n",
       "    .dataframe tbody tr th:only-of-type {\n",
       "        vertical-align: middle;\n",
       "    }\n",
       "\n",
       "    .dataframe tbody tr th {\n",
       "        vertical-align: top;\n",
       "    }\n",
       "\n",
       "    .dataframe thead tr th {\n",
       "        text-align: left;\n",
       "    }\n",
       "</style>\n",
       "<table border=\"1\" class=\"dataframe\">\n",
       "  <thead>\n",
       "    <tr>\n",
       "      <th></th>\n",
       "      <th colspan=\"2\" halign=\"left\">Anti</th>\n",
       "      <th colspan=\"2\" halign=\"left\">Neutral</th>\n",
       "      <th colspan=\"2\" halign=\"left\">News</th>\n",
       "      <th colspan=\"2\" halign=\"left\">Pro</th>\n",
       "    </tr>\n",
       "    <tr>\n",
       "      <th></th>\n",
       "      <th>hashtags</th>\n",
       "      <th>counts</th>\n",
       "      <th>hashtags</th>\n",
       "      <th>counts</th>\n",
       "      <th>hashtags</th>\n",
       "      <th>counts</th>\n",
       "      <th>hashtags</th>\n",
       "      <th>counts</th>\n",
       "    </tr>\n",
       "  </thead>\n",
       "  <tbody>\n",
       "    <tr>\n",
       "      <th>0</th>\n",
       "      <td>maga</td>\n",
       "      <td>14</td>\n",
       "      <td>climate</td>\n",
       "      <td>19</td>\n",
       "      <td>climate</td>\n",
       "      <td>135</td>\n",
       "      <td>climate</td>\n",
       "      <td>188</td>\n",
       "    </tr>\n",
       "    <tr>\n",
       "      <th>1</th>\n",
       "      <td>climate</td>\n",
       "      <td>10</td>\n",
       "      <td>climatechange</td>\n",
       "      <td>15</td>\n",
       "      <td>climatechange</td>\n",
       "      <td>65</td>\n",
       "      <td>beforetheflood</td>\n",
       "      <td>148</td>\n",
       "    </tr>\n",
       "    <tr>\n",
       "      <th>2</th>\n",
       "      <td>trump</td>\n",
       "      <td>8</td>\n",
       "      <td>trump</td>\n",
       "      <td>12</td>\n",
       "      <td>environment</td>\n",
       "      <td>47</td>\n",
       "      <td>climatechange</td>\n",
       "      <td>120</td>\n",
       "    </tr>\n",
       "    <tr>\n",
       "      <th>3</th>\n",
       "      <td>climatechange</td>\n",
       "      <td>8</td>\n",
       "      <td>beforetheflood</td>\n",
       "      <td>5</td>\n",
       "      <td>news</td>\n",
       "      <td>32</td>\n",
       "      <td>imvotingbecause</td>\n",
       "      <td>62</td>\n",
       "    </tr>\n",
       "    <tr>\n",
       "      <th>4</th>\n",
       "      <td>globalwarming</td>\n",
       "      <td>5</td>\n",
       "      <td>qanda</td>\n",
       "      <td>4</td>\n",
       "      <td>trump</td>\n",
       "      <td>25</td>\n",
       "      <td>cop22</td>\n",
       "      <td>59</td>\n",
       "    </tr>\n",
       "    <tr>\n",
       "      <th>5</th>\n",
       "      <td>fakenews</td>\n",
       "      <td>4</td>\n",
       "      <td>amreading</td>\n",
       "      <td>4</td>\n",
       "      <td>science</td>\n",
       "      <td>18</td>\n",
       "      <td>parisagreement</td>\n",
       "      <td>52</td>\n",
       "    </tr>\n",
       "    <tr>\n",
       "      <th>6</th>\n",
       "      <td>opchemtrails</td>\n",
       "      <td>4</td>\n",
       "      <td>cop22</td>\n",
       "      <td>4</td>\n",
       "      <td>p2</td>\n",
       "      <td>14</td>\n",
       "      <td>actonclimate</td>\n",
       "      <td>49</td>\n",
       "    </tr>\n",
       "    <tr>\n",
       "      <th>7</th>\n",
       "      <td>tcot</td>\n",
       "      <td>4</td>\n",
       "      <td>globalwarming</td>\n",
       "      <td>3</td>\n",
       "      <td>greatbarrierreef</td>\n",
       "      <td>14</td>\n",
       "      <td>trump</td>\n",
       "      <td>43</td>\n",
       "    </tr>\n",
       "    <tr>\n",
       "      <th>8</th>\n",
       "      <td>parisagreement</td>\n",
       "      <td>4</td>\n",
       "      <td>parisaccord</td>\n",
       "      <td>3</td>\n",
       "      <td>cop22</td>\n",
       "      <td>14</td>\n",
       "      <td>ã</td>\n",
       "      <td>37</td>\n",
       "    </tr>\n",
       "    <tr>\n",
       "      <th>9</th>\n",
       "      <td>qanda</td>\n",
       "      <td>3</td>\n",
       "      <td>climatecounts</td>\n",
       "      <td>3</td>\n",
       "      <td>parisagreement</td>\n",
       "      <td>9</td>\n",
       "      <td>globalwarming</td>\n",
       "      <td>35</td>\n",
       "    </tr>\n",
       "  </tbody>\n",
       "</table>\n",
       "</div>"
      ],
      "text/plain": [
       "             Anti                Neutral                     News         \\\n",
       "         hashtags counts        hashtags counts          hashtags counts   \n",
       "0            maga     14         climate     19           climate    135   \n",
       "1         climate     10   climatechange     15     climatechange     65   \n",
       "2           trump      8           trump     12       environment     47   \n",
       "3   climatechange      8  beforetheflood      5              news     32   \n",
       "4   globalwarming      5           qanda      4             trump     25   \n",
       "5        fakenews      4       amreading      4           science     18   \n",
       "6    opchemtrails      4           cop22      4                p2     14   \n",
       "7            tcot      4   globalwarming      3  greatbarrierreef     14   \n",
       "8  parisagreement      4     parisaccord      3             cop22     14   \n",
       "9           qanda      3   climatecounts      3    parisagreement      9   \n",
       "\n",
       "               Pro         \n",
       "          hashtags counts  \n",
       "0          climate    188  \n",
       "1   beforetheflood    148  \n",
       "2    climatechange    120  \n",
       "3  imvotingbecause     62  \n",
       "4            cop22     59  \n",
       "5   parisagreement     52  \n",
       "6     actonclimate     49  \n",
       "7            trump     43  \n",
       "8                ã     37  \n",
       "9    globalwarming     35  "
      ]
     },
     "metadata": {},
     "output_type": "display_data"
    }
   ],
   "source": [
    "#Instantly make your loops show a smart progress meter\n",
    "top15 = {}\n",
    "\n",
    "by_sentiment = df.groupby(\"sentiment\")\n",
    "for sentiment, group in tqdm(by_sentiment):\n",
    "    hashtags = group[\"message\"].apply(lambda tweet: re.findall(r\"#(\\w+)\", tweet))\n",
    "    hashtags = itertools.chain(*hashtags)\n",
    "    hashtags = [ht.lower() for ht in hashtags]\n",
    "    \n",
    "    frequency = nltk.FreqDist(hashtags)\n",
    "    \n",
    "    df_hashtags = pd.DataFrame({\n",
    "        \"hashtags\": list(frequency.keys()),\n",
    "        \"counts\": list(frequency.values()),\n",
    "    })\n",
    "    top15_htags = df_hashtags.nlargest(15, columns=[\"counts\"])\n",
    "    \n",
    "    top15[sentiment] = top15_htags.reset_index(drop=True)\n",
    "\n",
    "display(pd.concat(top15, axis=1).head(n=10))"
   ]
  },
  {
   "cell_type": "markdown",
   "id": "d971b56a",
   "metadata": {},
   "source": [
    "The table above shows the various hashtags used with different sentiments and with their counts. For example, the **climate hashtag** was frequently used with the Pro sentiment "
   ]
  },
  {
   "cell_type": "code",
   "execution_count": 13,
   "id": "ee93b1f9",
   "metadata": {
    "scrolled": true
   },
   "outputs": [
    {
     "data": {
      "image/png": "[encoded data removed]",
      "text/plain": [
       "<Figure size 1440x864 with 4 Axes>"
      ]
     },
     "metadata": {
      "needs_background": "light"
     },
     "output_type": "display_data"
    },
    {
     "data": {
      "text/plain": [
       "<Figure size 432x288 with 0 Axes>"
      ]
     },
     "metadata": {},
     "output_type": "display_data"
    }
   ],
   "source": [
    "#Plotting the frequently used hashtags with different sentiments\n",
    "fig, axes = plt.subplots(2, 2, figsize=(20, 12))\n",
    "counter = 0\n",
    "\n",
    "for sentiment, top in top15.items():\n",
    "    sns.barplot(data=top, y=\"hashtags\", x=\"counts\", palette=\"Blues_d\", ax=axes[counter // 2, counter % 2])\n",
    "    axes[counter // 2, counter % 2].set_title(f\"Most frequent Hashtags by {sentiment} (Visually)\", fontsize=25)\n",
    "    counter += 1\n",
    "plt.show()\n",
    "plt.savefig('Frequently Used Hashtags.png', dpi=300, bbox_inches='tight')"
   ]
  },
  {
   "cell_type": "markdown",
   "id": "46dd32b1",
   "metadata": {},
   "source": [
    "<a id=\"four\"></a>\n",
    "## 4. Feature Engineering\n",
    "<a class=\"anchor\" id=\"1.1\"></a>\n",
    "<a href=#cont>Back to Table of Contents</a>\n",
    "\n",
    "---"
   ]
  },
  {
   "cell_type": "markdown",
   "id": "bb33d414",
   "metadata": {},
   "source": [
    "**The feature engineering** pipeline is the preprocessing steps that transform raw data into features that can be used in machine learning algorithms, such as predictive models. Predictive models consist of an outcome variable and predictor variables, and it is during the feature engineering process that the most useful predictor variables are created and selected for the predictive model. Feature engineering consists of creation, transformation, extraction, and selection of features, also known as variables, that are most conducive to creating an accurate ML algorithm. These processes entail:\n",
    "\n",
    "Feature Creation: Creating features involves identifying the variables that will be most useful in the predictive model.  \n",
    "\n",
    "Transformations: Transformation involves manipulating the predictor variables to improve model performance; e.g. ensuring the model is flexible in the variety of data it can ingest; ensuring variables are on the same scale, making the model easier to understand; improving accuracy; and avoiding computational errors by ensuring all features are within an acceptable range for the model. \n",
    "\n",
    "Feature Extraction: Feature extraction is the automatic creation of new variables by extracting them from raw data. The purpose of this step is to automatically reduce the volume of data into a more manageable set for modeling. Some feature extraction methods include cluster analysis, text analytics, edge detection algorithms, and principal components analysis.\n",
    "\n",
    "Feature Selection: Feature selection algorithms essentially analyze, judge, and rank various features to determine which features are irrelevant and should be removed, which features are redundant and should be removed, and which features are most useful for the model and should be prioritized.\n",
    "[Source](https://www.heavy.ai/technical-glossary/feature-engineering).\n",
    "\n",
    "For the climate change belief tweet dataset, we engineered the data using mainly the feature transformations pipeline where we cleaned the data by removing punctuations, urls, made the text in a lower case, removed stop words, balanced the data using the resampling methods and removed the retweets."
   ]
  },
  {
   "cell_type": "markdown",
   "id": "ebfcd831",
   "metadata": {},
   "source": [
    "## Cleaning the Text Dataset"
   ]
  },
  {
   "cell_type": "markdown",
   "id": "c1c9804d",
   "metadata": {},
   "source": [
    "Removing noise (i.e. unneccesary information) is a key part of getting the data into a usable format. \n",
    "For this dataset, we will be:\n",
    "making everything lower case\n",
    "removing punctuation\n",
    "removing emails and hashtags\n",
    "removing urls or website links"
   ]
  },
  {
   "cell_type": "code",
   "execution_count": 14,
   "id": "978af251",
   "metadata": {},
   "outputs": [],
   "source": [
    "#Defining a function to clean the text in the dataset\n",
    "def cleaner(tweet):\n",
    "    tweet = tweet.lower()\n",
    "    \n",
    "    to_del = [\n",
    "        r\"@[\\w]*\",  # strip account mentions\n",
    "        r\"http(s?):\\/\\/.*\\/\\w*\",  # strip URLs\n",
    "        r\"#\\w*\",  # strip hashtags\n",
    "        r\"\\d+\",  # delete numeric values\n",
    "        r\"U+FFFD\",  # remove the \"character note present\" diamond\n",
    "    ]\n",
    "    for key in to_del:\n",
    "        tweet = re.sub(key, \"\", tweet)\n",
    "    \n",
    "    # strip punctuation and special characters\n",
    "    tweet = re.sub(r\"[,.;':@#?!\\&/$]+\\ *\", \" \", tweet)\n",
    "    # strip excess white-space\n",
    "    tweet = re.sub(r\"\\s\\s+\", \" \", tweet)\n",
    "    \n",
    "    return tweet.lstrip(\" \")"
   ]
  },
  {
   "cell_type": "code",
   "execution_count": 15,
   "id": "b0bfc012",
   "metadata": {},
   "outputs": [
    {
     "data": {
      "text/html": [
       "<div>\n",
       "<style scoped>\n",
       "    .dataframe tbody tr th:only-of-type {\n",
       "        vertical-align: middle;\n",
       "    }\n",
       "\n",
       "    .dataframe tbody tr th {\n",
       "        vertical-align: top;\n",
       "    }\n",
       "\n",
       "    .dataframe thead th {\n",
       "        text-align: right;\n",
       "    }\n",
       "</style>\n",
       "<table border=\"1\" class=\"dataframe\">\n",
       "  <thead>\n",
       "    <tr style=\"text-align: right;\">\n",
       "      <th></th>\n",
       "      <th>sentiment</th>\n",
       "      <th>message</th>\n",
       "      <th>tweetid</th>\n",
       "    </tr>\n",
       "  </thead>\n",
       "  <tbody>\n",
       "    <tr>\n",
       "      <th>0</th>\n",
       "      <td>Pro</td>\n",
       "      <td>polyscimajor epa chief doesn t think carbon di...</td>\n",
       "      <td>625221</td>\n",
       "    </tr>\n",
       "    <tr>\n",
       "      <th>1</th>\n",
       "      <td>Pro</td>\n",
       "      <td>it s not like we lack evidence of anthropogeni...</td>\n",
       "      <td>126103</td>\n",
       "    </tr>\n",
       "    <tr>\n",
       "      <th>2</th>\n",
       "      <td>News</td>\n",
       "      <td>rt researchers say we have three years to act ...</td>\n",
       "      <td>698562</td>\n",
       "    </tr>\n",
       "    <tr>\n",
       "      <th>3</th>\n",
       "      <td>Pro</td>\n",
       "      <td>wired was a pivotal year in the war on climate...</td>\n",
       "      <td>573736</td>\n",
       "    </tr>\n",
       "    <tr>\n",
       "      <th>4</th>\n",
       "      <td>Pro</td>\n",
       "      <td>rt it s and a racist sexist climate change den...</td>\n",
       "      <td>466954</td>\n",
       "    </tr>\n",
       "    <tr>\n",
       "      <th>5</th>\n",
       "      <td>Pro</td>\n",
       "      <td>worth a read whether you do or don t believe i...</td>\n",
       "      <td>425577</td>\n",
       "    </tr>\n",
       "    <tr>\n",
       "      <th>6</th>\n",
       "      <td>Pro</td>\n",
       "      <td>rt mike pence doesn’t believe in global warmin...</td>\n",
       "      <td>294933</td>\n",
       "    </tr>\n",
       "    <tr>\n",
       "      <th>7</th>\n",
       "      <td>Pro</td>\n",
       "      <td>rt six big things we can all do today to fight...</td>\n",
       "      <td>992717</td>\n",
       "    </tr>\n",
       "    <tr>\n",
       "      <th>8</th>\n",
       "      <td>Pro</td>\n",
       "      <td>my yo nephew is inconsolable he wants to die o...</td>\n",
       "      <td>664510</td>\n",
       "    </tr>\n",
       "    <tr>\n",
       "      <th>9</th>\n",
       "      <td>Pro</td>\n",
       "      <td>rt no offense… but like… how do you just not b...</td>\n",
       "      <td>260471</td>\n",
       "    </tr>\n",
       "  </tbody>\n",
       "</table>\n",
       "</div>"
      ],
      "text/plain": [
       "  sentiment                                            message  tweetid\n",
       "0       Pro  polyscimajor epa chief doesn t think carbon di...   625221\n",
       "1       Pro  it s not like we lack evidence of anthropogeni...   126103\n",
       "2      News  rt researchers say we have three years to act ...   698562\n",
       "3       Pro  wired was a pivotal year in the war on climate...   573736\n",
       "4       Pro  rt it s and a racist sexist climate change den...   466954\n",
       "5       Pro  worth a read whether you do or don t believe i...   425577\n",
       "6       Pro  rt mike pence doesn’t believe in global warmin...   294933\n",
       "7       Pro  rt six big things we can all do today to fight...   992717\n",
       "8       Pro  my yo nephew is inconsolable he wants to die o...   664510\n",
       "9       Pro  rt no offense… but like… how do you just not b...   260471"
      ]
     },
     "execution_count": 15,
     "metadata": {},
     "output_type": "execute_result"
    }
   ],
   "source": [
    "#Applying the clean function to the message column of the dataset\n",
    "df[\"message\"] = df[\"message\"].apply(cleaner)\n",
    "df.head(10)"
   ]
  },
  {
   "cell_type": "markdown",
   "id": "fc298e06",
   "metadata": {},
   "source": [
    "The resultant message column in the dataset has no Urls, no hashtags, account mentions, no whitespace, no numeric values and special characters removed too."
   ]
  },
  {
   "cell_type": "markdown",
   "id": "14f17f40",
   "metadata": {},
   "source": [
    "## Lemmatization, Tokenization and Parts-of-Speech"
   ]
  },
  {
   "cell_type": "markdown",
   "id": "78b502d8",
   "metadata": {},
   "source": [
    " Lemmatizing is the process of grouping words of similar meaning together. So, your root stem, meaning the word you end up with, is not something you can just look up in a dictionary, but you can look up a lemma.\n",
    "Sometimes you will wind up with a very similar word, but other times you will wind up with a completely different word.\n",
    "\n",
    "A tokeniser divides text into a sequence of tokens, which roughly correspond to \"words\". We will use tokenisers to clean up the data, making it ready for analysis.\n",
    "\n",
    "Part of Speech Tagging is grammatical tagging or word-category disambiguation, is the process of marking up a word in a text (corpus) as corresponding to a particular part of speech, based on both its definition and its context."
   ]
  },
  {
   "cell_type": "code",
   "execution_count": 16,
   "id": "19a5b405",
   "metadata": {},
   "outputs": [],
   "source": [
    "#Defining a lemmatization, tokenization and parts-of-speech function\n",
    "def lemmatizer(lem):\n",
    "    lem[\"length\"] = lem[\"message\"].str.len()\n",
    "    lem[\"tokenized\"] = lem[\"message\"].apply(word_tokenize)\n",
    "    lem[\"parts-of-speech\"] = lem[\"tokenized\"].apply(nltk.tag.pos_tag)\n",
    "    \n",
    "    def str2wordnet(tag):\n",
    "        conversion = {\"J\": wordnet.ADJ, \"V\": wordnet.VERB, \"N\": wordnet.NOUN, \"R\": wordnet.ADV}\n",
    "        try:\n",
    "            return conversion[tag[0].upper()]\n",
    "        except KeyError:\n",
    "            return wordnet.NOUN\n",
    "    \n",
    "    wnl = WordNetLemmatizer()\n",
    "    lem[\"parts-of-speech\"] = lem[\"parts-of-speech\"].apply(\n",
    "        lambda tokens: [(word, str2wordnet(tag)) for word, tag in tokens]\n",
    "    )\n",
    "    lem[\"lemmatized\"] = lem[\"parts-of-speech\"].apply(\n",
    "        lambda tokens: [wnl.lemmatize(word, tag) for word, tag in tokens]\n",
    "    )\n",
    "    lem[\"lemmatized\"] = lem[\"lemmatized\"].apply(lambda tokens: \" \".join(map(str, tokens)))\n",
    "    \n",
    "    return lem"
   ]
  },
  {
   "cell_type": "code",
   "execution_count": 17,
   "id": "f648bb52",
   "metadata": {},
   "outputs": [
    {
     "data": {
      "text/html": [
       "<div>\n",
       "<style scoped>\n",
       "    .dataframe tbody tr th:only-of-type {\n",
       "        vertical-align: middle;\n",
       "    }\n",
       "\n",
       "    .dataframe tbody tr th {\n",
       "        vertical-align: top;\n",
       "    }\n",
       "\n",
       "    .dataframe thead th {\n",
       "        text-align: right;\n",
       "    }\n",
       "</style>\n",
       "<table border=\"1\" class=\"dataframe\">\n",
       "  <thead>\n",
       "    <tr style=\"text-align: right;\">\n",
       "      <th></th>\n",
       "      <th>sentiment</th>\n",
       "      <th>message</th>\n",
       "      <th>tweetid</th>\n",
       "      <th>length</th>\n",
       "      <th>tokenized</th>\n",
       "      <th>parts-of-speech</th>\n",
       "      <th>lemmatized</th>\n",
       "    </tr>\n",
       "  </thead>\n",
       "  <tbody>\n",
       "    <tr>\n",
       "      <th>0</th>\n",
       "      <td>Pro</td>\n",
       "      <td>polyscimajor epa chief doesn t think carbon di...</td>\n",
       "      <td>625221</td>\n",
       "      <td>102</td>\n",
       "      <td>[polyscimajor, epa, chief, doesn, t, think, ca...</td>\n",
       "      <td>[(polyscimajor, a), (epa, n), (chief, n), (doe...</td>\n",
       "      <td>polyscimajor epa chief doesn t think carbon di...</td>\n",
       "    </tr>\n",
       "    <tr>\n",
       "      <th>1</th>\n",
       "      <td>Pro</td>\n",
       "      <td>it s not like we lack evidence of anthropogeni...</td>\n",
       "      <td>126103</td>\n",
       "      <td>62</td>\n",
       "      <td>[it, s, not, like, we, lack, evidence, of, ant...</td>\n",
       "      <td>[(it, n), (s, v), (not, r), (like, n), (we, n)...</td>\n",
       "      <td>it s not like we lack evidence of anthropogeni...</td>\n",
       "    </tr>\n",
       "    <tr>\n",
       "      <th>2</th>\n",
       "      <td>News</td>\n",
       "      <td>rt researchers say we have three years to act ...</td>\n",
       "      <td>698562</td>\n",
       "      <td>86</td>\n",
       "      <td>[rt, researchers, say, we, have, three, years,...</td>\n",
       "      <td>[(rt, n), (researchers, n), (say, v), (we, n),...</td>\n",
       "      <td>rt researcher say we have three year to act on...</td>\n",
       "    </tr>\n",
       "    <tr>\n",
       "      <th>3</th>\n",
       "      <td>Pro</td>\n",
       "      <td>wired was a pivotal year in the war on climate...</td>\n",
       "      <td>573736</td>\n",
       "      <td>54</td>\n",
       "      <td>[wired, was, a, pivotal, year, in, the, war, o...</td>\n",
       "      <td>[(wired, v), (was, v), (a, n), (pivotal, a), (...</td>\n",
       "      <td>wire be a pivotal year in the war on climate c...</td>\n",
       "    </tr>\n",
       "    <tr>\n",
       "      <th>4</th>\n",
       "      <td>Pro</td>\n",
       "      <td>rt it s and a racist sexist climate change den...</td>\n",
       "      <td>466954</td>\n",
       "      <td>81</td>\n",
       "      <td>[rt, it, s, and, a, racist, sexist, climate, c...</td>\n",
       "      <td>[(rt, v), (it, n), (s, n), (and, n), (a, n), (...</td>\n",
       "      <td>rt it s and a racist sexist climate change den...</td>\n",
       "    </tr>\n",
       "  </tbody>\n",
       "</table>\n",
       "</div>"
      ],
      "text/plain": [
       "  sentiment                                            message  tweetid  \\\n",
       "0       Pro  polyscimajor epa chief doesn t think carbon di...   625221   \n",
       "1       Pro  it s not like we lack evidence of anthropogeni...   126103   \n",
       "2      News  rt researchers say we have three years to act ...   698562   \n",
       "3       Pro  wired was a pivotal year in the war on climate...   573736   \n",
       "4       Pro  rt it s and a racist sexist climate change den...   466954   \n",
       "\n",
       "   length                                          tokenized  \\\n",
       "0     102  [polyscimajor, epa, chief, doesn, t, think, ca...   \n",
       "1      62  [it, s, not, like, we, lack, evidence, of, ant...   \n",
       "2      86  [rt, researchers, say, we, have, three, years,...   \n",
       "3      54  [wired, was, a, pivotal, year, in, the, war, o...   \n",
       "4      81  [rt, it, s, and, a, racist, sexist, climate, c...   \n",
       "\n",
       "                                     parts-of-speech  \\\n",
       "0  [(polyscimajor, a), (epa, n), (chief, n), (doe...   \n",
       "1  [(it, n), (s, v), (not, r), (like, n), (we, n)...   \n",
       "2  [(rt, n), (researchers, n), (say, v), (we, n),...   \n",
       "3  [(wired, v), (was, v), (a, n), (pivotal, a), (...   \n",
       "4  [(rt, v), (it, n), (s, n), (and, n), (a, n), (...   \n",
       "\n",
       "                                          lemmatized  \n",
       "0  polyscimajor epa chief doesn t think carbon di...  \n",
       "1  it s not like we lack evidence of anthropogeni...  \n",
       "2  rt researcher say we have three year to act on...  \n",
       "3  wire be a pivotal year in the war on climate c...  \n",
       "4  rt it s and a racist sexist climate change den...  "
      ]
     },
     "execution_count": 17,
     "metadata": {},
     "output_type": "execute_result"
    }
   ],
   "source": [
    "#Applying the function to the dataset\n",
    "df = lemmatizer(df)\n",
    "df.head()"
   ]
  },
  {
   "cell_type": "code",
   "execution_count": 18,
   "id": "66ef2909",
   "metadata": {},
   "outputs": [
    {
     "data": {
      "image/png": "[encoded data removed]",
      "text/plain": [
       "<Figure size 720x576 with 1 Axes>"
      ]
     },
     "metadata": {
      "needs_background": "light"
     },
     "output_type": "display_data"
    },
    {
     "data": {
      "text/plain": [
       "<Figure size 432x288 with 0 Axes>"
      ]
     },
     "metadata": {},
     "output_type": "display_data"
    }
   ],
   "source": [
    "#Plotting the tweet length distributions for each sentiment\n",
    "plt.figure(figsize=(10, 8))\n",
    "sns.boxplot(x=\"sentiment\", y=\"length\", data=df, palette=(\"Blues_d\"))\n",
    "plt.title(\"Tweet Length Distribution for each Sentiment\")\n",
    "plt.show()\n",
    "plt.savefig('Tweet length distribution for each sentiment.png', dpi=300, bbox_inches='tight')"
   ]
  },
  {
   "cell_type": "code",
   "execution_count": 19,
   "id": "bbd0c542",
   "metadata": {},
   "outputs": [
    {
     "data": {
      "application/vnd.jupyter.widget-view+json": {
       "model_id": "f37aadad2b97451da975517c70aa1e7c",
       "version_major": 2,
       "version_minor": 0
      },
      "text/plain": [
       "  0%|          | 0/4 [00:00<?, ?it/s]"
      ]
     },
     "metadata": {},
     "output_type": "display_data"
    },
    {
     "data": {
      "text/html": [
       "<div>\n",
       "<style scoped>\n",
       "    .dataframe tbody tr th:only-of-type {\n",
       "        vertical-align: middle;\n",
       "    }\n",
       "\n",
       "    .dataframe tbody tr th {\n",
       "        vertical-align: top;\n",
       "    }\n",
       "\n",
       "    .dataframe thead tr th {\n",
       "        text-align: left;\n",
       "    }\n",
       "</style>\n",
       "<table border=\"1\" class=\"dataframe\">\n",
       "  <thead>\n",
       "    <tr>\n",
       "      <th></th>\n",
       "      <th colspan=\"2\" halign=\"left\">Anti</th>\n",
       "      <th colspan=\"2\" halign=\"left\">Neutral</th>\n",
       "      <th colspan=\"2\" halign=\"left\">News</th>\n",
       "      <th colspan=\"2\" halign=\"left\">Pro</th>\n",
       "    </tr>\n",
       "    <tr>\n",
       "      <th></th>\n",
       "      <th>word</th>\n",
       "      <th>freq</th>\n",
       "      <th>word</th>\n",
       "      <th>freq</th>\n",
       "      <th>word</th>\n",
       "      <th>freq</th>\n",
       "      <th>word</th>\n",
       "      <th>freq</th>\n",
       "    </tr>\n",
       "  </thead>\n",
       "  <tbody>\n",
       "    <tr>\n",
       "      <th>0</th>\n",
       "      <td>climate</td>\n",
       "      <td>799</td>\n",
       "      <td>climate</td>\n",
       "      <td>1431</td>\n",
       "      <td>change</td>\n",
       "      <td>3264</td>\n",
       "      <td>change</td>\n",
       "      <td>7249</td>\n",
       "    </tr>\n",
       "    <tr>\n",
       "      <th>1</th>\n",
       "      <td>change</td>\n",
       "      <td>786</td>\n",
       "      <td>change</td>\n",
       "      <td>1419</td>\n",
       "      <td>climate</td>\n",
       "      <td>3212</td>\n",
       "      <td>climate</td>\n",
       "      <td>7202</td>\n",
       "    </tr>\n",
       "    <tr>\n",
       "      <th>2</th>\n",
       "      <td>rt</td>\n",
       "      <td>684</td>\n",
       "      <td>rt</td>\n",
       "      <td>1092</td>\n",
       "      <td>rt</td>\n",
       "      <td>2150</td>\n",
       "      <td>rt</td>\n",
       "      <td>5793</td>\n",
       "    </tr>\n",
       "    <tr>\n",
       "      <th>3</th>\n",
       "      <td>global</td>\n",
       "      <td>639</td>\n",
       "      <td>global</td>\n",
       "      <td>1038</td>\n",
       "      <td>trump</td>\n",
       "      <td>1029</td>\n",
       "      <td>global</td>\n",
       "      <td>1605</td>\n",
       "    </tr>\n",
       "    <tr>\n",
       "      <th>4</th>\n",
       "      <td>warming</td>\n",
       "      <td>489</td>\n",
       "      <td>warming</td>\n",
       "      <td>861</td>\n",
       "      <td>global</td>\n",
       "      <td>509</td>\n",
       "      <td>warming</td>\n",
       "      <td>1196</td>\n",
       "    </tr>\n",
       "    <tr>\n",
       "      <th>5</th>\n",
       "      <td>warm</td>\n",
       "      <td>133</td>\n",
       "      <td>trump</td>\n",
       "      <td>170</td>\n",
       "      <td>warming</td>\n",
       "      <td>345</td>\n",
       "      <td>believe</td>\n",
       "      <td>1115</td>\n",
       "    </tr>\n",
       "    <tr>\n",
       "      <th>6</th>\n",
       "      <td>make</td>\n",
       "      <td>109</td>\n",
       "      <td>warm</td>\n",
       "      <td>168</td>\n",
       "      <td>say</td>\n",
       "      <td>336</td>\n",
       "      <td>trump</td>\n",
       "      <td>1052</td>\n",
       "    </tr>\n",
       "    <tr>\n",
       "      <th>7</th>\n",
       "      <td>man</td>\n",
       "      <td>96</td>\n",
       "      <td>say</td>\n",
       "      <td>141</td>\n",
       "      <td>epa</td>\n",
       "      <td>254</td>\n",
       "      <td>think</td>\n",
       "      <td>809</td>\n",
       "    </tr>\n",
       "    <tr>\n",
       "      <th>8</th>\n",
       "      <td>amp</td>\n",
       "      <td>91</td>\n",
       "      <td>think</td>\n",
       "      <td>120</td>\n",
       "      <td>scientist</td>\n",
       "      <td>214</td>\n",
       "      <td>doesn</td>\n",
       "      <td>710</td>\n",
       "    </tr>\n",
       "    <tr>\n",
       "      <th>9</th>\n",
       "      <td>science</td>\n",
       "      <td>81</td>\n",
       "      <td>cause</td>\n",
       "      <td>113</td>\n",
       "      <td>new</td>\n",
       "      <td>192</td>\n",
       "      <td>amp</td>\n",
       "      <td>695</td>\n",
       "    </tr>\n",
       "    <tr>\n",
       "      <th>10</th>\n",
       "      <td>cause</td>\n",
       "      <td>73</td>\n",
       "      <td>amp</td>\n",
       "      <td>112</td>\n",
       "      <td>fight</td>\n",
       "      <td>186</td>\n",
       "      <td>real</td>\n",
       "      <td>518</td>\n",
       "    </tr>\n",
       "    <tr>\n",
       "      <th>11</th>\n",
       "      <td>say</td>\n",
       "      <td>69</td>\n",
       "      <td>believe</td>\n",
       "      <td>104</td>\n",
       "      <td>donald</td>\n",
       "      <td>165</td>\n",
       "      <td>world</td>\n",
       "      <td>491</td>\n",
       "    </tr>\n",
       "    <tr>\n",
       "      <th>12</th>\n",
       "      <td>just</td>\n",
       "      <td>68</td>\n",
       "      <td>like</td>\n",
       "      <td>102</td>\n",
       "      <td>world</td>\n",
       "      <td>156</td>\n",
       "      <td>say</td>\n",
       "      <td>480</td>\n",
       "    </tr>\n",
       "    <tr>\n",
       "      <th>13</th>\n",
       "      <td>real</td>\n",
       "      <td>65</td>\n",
       "      <td>real</td>\n",
       "      <td>99</td>\n",
       "      <td>china</td>\n",
       "      <td>156</td>\n",
       "      <td>people</td>\n",
       "      <td>467</td>\n",
       "    </tr>\n",
       "    <tr>\n",
       "      <th>14</th>\n",
       "      <td>scientist</td>\n",
       "      <td>64</td>\n",
       "      <td>just</td>\n",
       "      <td>94</td>\n",
       "      <td>obama</td>\n",
       "      <td>130</td>\n",
       "      <td>die</td>\n",
       "      <td>420</td>\n",
       "    </tr>\n",
       "    <tr>\n",
       "      <th>15</th>\n",
       "      <td>year</td>\n",
       "      <td>64</td>\n",
       "      <td>penguin</td>\n",
       "      <td>86</td>\n",
       "      <td>president</td>\n",
       "      <td>120</td>\n",
       "      <td>president</td>\n",
       "      <td>409</td>\n",
       "    </tr>\n",
       "    <tr>\n",
       "      <th>16</th>\n",
       "      <td>trump</td>\n",
       "      <td>62</td>\n",
       "      <td>know</td>\n",
       "      <td>71</td>\n",
       "      <td>pruitt</td>\n",
       "      <td>118</td>\n",
       "      <td>fight</td>\n",
       "      <td>396</td>\n",
       "    </tr>\n",
       "    <tr>\n",
       "      <th>17</th>\n",
       "      <td>people</td>\n",
       "      <td>58</td>\n",
       "      <td>people</td>\n",
       "      <td>69</td>\n",
       "      <td>plan</td>\n",
       "      <td>113</td>\n",
       "      <td>denier</td>\n",
       "      <td>376</td>\n",
       "    </tr>\n",
       "    <tr>\n",
       "      <th>18</th>\n",
       "      <td>believe</td>\n",
       "      <td>58</td>\n",
       "      <td>talk</td>\n",
       "      <td>69</td>\n",
       "      <td>scott</td>\n",
       "      <td>113</td>\n",
       "      <td>just</td>\n",
       "      <td>372</td>\n",
       "    </tr>\n",
       "    <tr>\n",
       "      <th>19</th>\n",
       "      <td>scam</td>\n",
       "      <td>54</td>\n",
       "      <td>make</td>\n",
       "      <td>69</td>\n",
       "      <td>paris</td>\n",
       "      <td>108</td>\n",
       "      <td>don</td>\n",
       "      <td>364</td>\n",
       "    </tr>\n",
       "    <tr>\n",
       "      <th>20</th>\n",
       "      <td>tax</td>\n",
       "      <td>51</td>\n",
       "      <td>don</td>\n",
       "      <td>68</td>\n",
       "      <td>study</td>\n",
       "      <td>102</td>\n",
       "      <td>http</td>\n",
       "      <td>359</td>\n",
       "    </tr>\n",
       "    <tr>\n",
       "      <th>21</th>\n",
       "      <td>hoax</td>\n",
       "      <td>51</td>\n",
       "      <td>tell</td>\n",
       "      <td>66</td>\n",
       "      <td>chief</td>\n",
       "      <td>102</td>\n",
       "      <td>make</td>\n",
       "      <td>322</td>\n",
       "    </tr>\n",
       "    <tr>\n",
       "      <th>22</th>\n",
       "      <td>data</td>\n",
       "      <td>50</td>\n",
       "      <td>ask</td>\n",
       "      <td>59</td>\n",
       "      <td>energy</td>\n",
       "      <td>102</td>\n",
       "      <td>like</td>\n",
       "      <td>318</td>\n",
       "    </tr>\n",
       "    <tr>\n",
       "      <th>23</th>\n",
       "      <td>liberal</td>\n",
       "      <td>48</td>\n",
       "      <td>hot</td>\n",
       "      <td>53</td>\n",
       "      <td>warm</td>\n",
       "      <td>99</td>\n",
       "      <td>warm</td>\n",
       "      <td>313</td>\n",
       "    </tr>\n",
       "    <tr>\n",
       "      <th>24</th>\n",
       "      <td>fake</td>\n",
       "      <td>47</td>\n",
       "      <td>come</td>\n",
       "      <td>51</td>\n",
       "      <td>use</td>\n",
       "      <td>95</td>\n",
       "      <td>husband</td>\n",
       "      <td>312</td>\n",
       "    </tr>\n",
       "  </tbody>\n",
       "</table>\n",
       "</div>"
      ],
      "text/plain": [
       "         Anti       Neutral             News              Pro      \n",
       "         word freq     word  freq       word  freq       word  freq\n",
       "0     climate  799  climate  1431     change  3264     change  7249\n",
       "1      change  786   change  1419    climate  3212    climate  7202\n",
       "2          rt  684       rt  1092         rt  2150         rt  5793\n",
       "3      global  639   global  1038      trump  1029     global  1605\n",
       "4     warming  489  warming   861     global   509    warming  1196\n",
       "5        warm  133    trump   170    warming   345    believe  1115\n",
       "6        make  109     warm   168        say   336      trump  1052\n",
       "7         man   96      say   141        epa   254      think   809\n",
       "8         amp   91    think   120  scientist   214      doesn   710\n",
       "9     science   81    cause   113        new   192        amp   695\n",
       "10      cause   73      amp   112      fight   186       real   518\n",
       "11        say   69  believe   104     donald   165      world   491\n",
       "12       just   68     like   102      world   156        say   480\n",
       "13       real   65     real    99      china   156     people   467\n",
       "14  scientist   64     just    94      obama   130        die   420\n",
       "15       year   64  penguin    86  president   120  president   409\n",
       "16      trump   62     know    71     pruitt   118      fight   396\n",
       "17     people   58   people    69       plan   113     denier   376\n",
       "18    believe   58     talk    69      scott   113       just   372\n",
       "19       scam   54     make    69      paris   108        don   364\n",
       "20        tax   51      don    68      study   102       http   359\n",
       "21       hoax   51     tell    66      chief   102       make   322\n",
       "22       data   50      ask    59     energy   102       like   318\n",
       "23    liberal   48      hot    53       warm    99       warm   313\n",
       "24       fake   47     come    51        use    95    husband   312"
      ]
     },
     "metadata": {},
     "output_type": "display_data"
    }
   ],
   "source": [
    "#Checking the count for the frequently used words in a message for each sentiment \n",
    "frequency = {}\n",
    "\n",
    "by_sentiment = df.groupby(\"sentiment\")\n",
    "for sentiment, group in tqdm(by_sentiment):\n",
    "    cv = CountVectorizer(stop_words=\"english\")\n",
    "    words = cv.fit_transform(group[\"lemmatized\"])\n",
    "    \n",
    "    n_words = words.sum(axis=0)\n",
    "    word_freq = [(word, n_words[0, idx]) for word, idx in cv.vocabulary_.items()]\n",
    "    word_freq = sorted(word_freq, key=lambda x: x[1], reverse=True)\n",
    "    \n",
    "    freq = pd.DataFrame(word_freq, columns=[\"word\", \"freq\"])\n",
    "    \n",
    "    frequency[sentiment] = freq.head(n=25)\n",
    "\n",
    "to_view = pd.concat(frequency, axis=1).head(n=25)\n",
    "display(to_view)"
   ]
  },
  {
   "cell_type": "code",
   "execution_count": 20,
   "id": "9d4b81a9",
   "metadata": {},
   "outputs": [
    {
     "data": {
      "application/vnd.jupyter.widget-view+json": {
       "model_id": "64b6b8ba1dfc49d088b6e92e79c5a62f",
       "version_major": 2,
       "version_minor": 0
      },
      "text/plain": [
       "  0%|          | 0/4 [00:00<?, ?it/s]"
      ]
     },
     "metadata": {},
     "output_type": "display_data"
    },
    {
     "data": {
      "image/png": "[encoded data removed]",
      "text/plain": [
       "<Figure size 1008x720 with 4 Axes>"
      ]
     },
     "metadata": {
      "needs_background": "light"
     },
     "output_type": "display_data"
    },
    {
     "data": {
      "text/plain": [
       "<Figure size 432x288 with 0 Axes>"
      ]
     },
     "metadata": {},
     "output_type": "display_data"
    }
   ],
   "source": [
    "#Performing a word cloud\n",
    "words = {sentiment: \" \".join(frequency[sentiment][\"word\"].values) for sentiment in sentiment_num2name.values()}\n",
    "\n",
    "cmaps = {\n",
    "    \"Anti\": (\"Reds\", 110),\n",
    "    \"Pro\" : (\"Greens\", 73),\n",
    "    \"News\": (\"Blues\", 0),\n",
    "    \"Neutral\": (\"Oranges\", 10),\n",
    "}\n",
    "\n",
    "\n",
    "\n",
    "wordclouds = {}\n",
    "for sentiment, (cmap, rand) in tqdm(cmaps.items()):\n",
    "    wordclouds[sentiment] = WordCloud(\n",
    "        width=800, height=500, random_state=rand,\n",
    "        max_font_size=110, background_color=\"white\",\n",
    "        colormap=cmap\n",
    "    ).generate(words[sentiment])\n",
    "    \n",
    "fig, axes = plt.subplots(2, 2, figsize=(14, 10))\n",
    "counter = 0\n",
    "\n",
    "for sentiment, wordcloud in wordclouds.items():\n",
    "    axes[counter // 2, counter % 2].imshow(wordcloud)\n",
    "    axes[counter // 2, counter % 2].set_title(sentiment, fontsize=25)\n",
    "    counter += 1\n",
    "    \n",
    "for ax in fig.axes:\n",
    "    plt.sca(ax)\n",
    "    plt.axis(\"off\")\n",
    "\n",
    "plt.show()\n",
    "fig.tight_layout()\n",
    "#plt.savefig('wordcloud for each sentiment.png', dpi=300)\n",
    "plt.savefig('wordcloud2.png', dpi=300, bbox_inches='tight')"
   ]
  },
  {
   "cell_type": "markdown",
   "id": "636b31ff",
   "metadata": {},
   "source": [
    "**Word Clouds** (also known as wordle, word collage or tag cloud) are visual representations of words that give greater prominence to words that appear more frequently. We did a wordcloud to visually observe the prominet words for each sentiment."
   ]
  },
  {
   "cell_type": "code",
   "execution_count": 21,
   "id": "ef346477",
   "metadata": {},
   "outputs": [
    {
     "data": {
      "text/html": [
       "<div>\n",
       "<style scoped>\n",
       "    .dataframe tbody tr th:only-of-type {\n",
       "        vertical-align: middle;\n",
       "    }\n",
       "\n",
       "    .dataframe tbody tr th {\n",
       "        vertical-align: top;\n",
       "    }\n",
       "\n",
       "    .dataframe thead th {\n",
       "        text-align: right;\n",
       "    }\n",
       "</style>\n",
       "<table border=\"1\" class=\"dataframe\">\n",
       "  <thead>\n",
       "    <tr style=\"text-align: right;\">\n",
       "      <th></th>\n",
       "      <th>sentiment</th>\n",
       "      <th>message</th>\n",
       "      <th>tweetid</th>\n",
       "      <th>length</th>\n",
       "      <th>tokenized</th>\n",
       "      <th>parts-of-speech</th>\n",
       "      <th>lemmatized</th>\n",
       "    </tr>\n",
       "  </thead>\n",
       "  <tbody>\n",
       "    <tr>\n",
       "      <th>0</th>\n",
       "      <td>Pro</td>\n",
       "      <td>polyscimajor epa chief doesn t think carbon di...</td>\n",
       "      <td>625221</td>\n",
       "      <td>102</td>\n",
       "      <td>[polyscimajor, epa, chief, doesn, t, think, ca...</td>\n",
       "      <td>[(polyscimajor, a), (epa, n), (chief, n), (doe...</td>\n",
       "      <td>polyscimajor epa chief doesn t think carbon di...</td>\n",
       "    </tr>\n",
       "    <tr>\n",
       "      <th>1</th>\n",
       "      <td>Pro</td>\n",
       "      <td>it s not like we lack evidence of anthropogeni...</td>\n",
       "      <td>126103</td>\n",
       "      <td>62</td>\n",
       "      <td>[it, s, not, like, we, lack, evidence, of, ant...</td>\n",
       "      <td>[(it, n), (s, v), (not, r), (like, n), (we, n)...</td>\n",
       "      <td>it s not like we lack evidence of anthropogeni...</td>\n",
       "    </tr>\n",
       "    <tr>\n",
       "      <th>2</th>\n",
       "      <td>News</td>\n",
       "      <td>rt researchers say we have three years to act ...</td>\n",
       "      <td>698562</td>\n",
       "      <td>86</td>\n",
       "      <td>[rt, researchers, say, we, have, three, years,...</td>\n",
       "      <td>[(rt, n), (researchers, n), (say, v), (we, n),...</td>\n",
       "      <td>rt researcher say we have three year to act on...</td>\n",
       "    </tr>\n",
       "    <tr>\n",
       "      <th>3</th>\n",
       "      <td>Pro</td>\n",
       "      <td>wired was a pivotal year in the war on climate...</td>\n",
       "      <td>573736</td>\n",
       "      <td>54</td>\n",
       "      <td>[wired, was, a, pivotal, year, in, the, war, o...</td>\n",
       "      <td>[(wired, v), (was, v), (a, n), (pivotal, a), (...</td>\n",
       "      <td>wire be a pivotal year in the war on climate c...</td>\n",
       "    </tr>\n",
       "    <tr>\n",
       "      <th>4</th>\n",
       "      <td>Pro</td>\n",
       "      <td>rt it s and a racist sexist climate change den...</td>\n",
       "      <td>466954</td>\n",
       "      <td>81</td>\n",
       "      <td>[rt, it, s, and, a, racist, sexist, climate, c...</td>\n",
       "      <td>[(rt, v), (it, n), (s, n), (and, n), (a, n), (...</td>\n",
       "      <td>rt it s and a racist sexist climate change den...</td>\n",
       "    </tr>\n",
       "  </tbody>\n",
       "</table>\n",
       "</div>"
      ],
      "text/plain": [
       "  sentiment                                            message  tweetid  \\\n",
       "0       Pro  polyscimajor epa chief doesn t think carbon di...   625221   \n",
       "1       Pro  it s not like we lack evidence of anthropogeni...   126103   \n",
       "2      News  rt researchers say we have three years to act ...   698562   \n",
       "3       Pro  wired was a pivotal year in the war on climate...   573736   \n",
       "4       Pro  rt it s and a racist sexist climate change den...   466954   \n",
       "\n",
       "   length                                          tokenized  \\\n",
       "0     102  [polyscimajor, epa, chief, doesn, t, think, ca...   \n",
       "1      62  [it, s, not, like, we, lack, evidence, of, ant...   \n",
       "2      86  [rt, researchers, say, we, have, three, years,...   \n",
       "3      54  [wired, was, a, pivotal, year, in, the, war, o...   \n",
       "4      81  [rt, it, s, and, a, racist, sexist, climate, c...   \n",
       "\n",
       "                                     parts-of-speech  \\\n",
       "0  [(polyscimajor, a), (epa, n), (chief, n), (doe...   \n",
       "1  [(it, n), (s, v), (not, r), (like, n), (we, n)...   \n",
       "2  [(rt, n), (researchers, n), (say, v), (we, n),...   \n",
       "3  [(wired, v), (was, v), (a, n), (pivotal, a), (...   \n",
       "4  [(rt, v), (it, n), (s, n), (and, n), (a, n), (...   \n",
       "\n",
       "                                          lemmatized  \n",
       "0  polyscimajor epa chief doesn t think carbon di...  \n",
       "1  it s not like we lack evidence of anthropogeni...  \n",
       "2  rt researcher say we have three year to act on...  \n",
       "3  wire be a pivotal year in the war on climate c...  \n",
       "4  rt it s and a racist sexist climate change den...  "
      ]
     },
     "execution_count": 21,
     "metadata": {},
     "output_type": "execute_result"
    }
   ],
   "source": [
    "df.head()"
   ]
  },
  {
   "cell_type": "markdown",
   "id": "8a35b271",
   "metadata": {},
   "source": [
    "## Class Imbalance - Resampling Methods"
   ]
  },
  {
   "cell_type": "markdown",
   "id": "f7df2ffe",
   "metadata": {},
   "source": [
    "Class imbalance occurs when the number of observations across different class labels are unevenly distributed. From our dataset, the pro sentiments had a higher count (>8000) and the anti sentiment had a lower count (<2000). In training our classification model, it is preferable for all classes to have a relatively even split of observations. However, our classification dataset often came with unevenly distributed observations with one class having way more observations than others.\n",
    "\n",
    "**Resampling**\n",
    "Resampling methods involve modifying the number of observations in each class as follows:\n",
    "\n",
    "Downsampling - taking a random subset of the majority class small enough to match the number of observations in the minority class.\n",
    "\n",
    "Upsampling - taking repeated random samples from the minority class until we have as many observations as the majority class. This grows the size of the minority class by effectively duplicating observations at random.\n",
    "\n",
    "We upsampled our dataset to match the Pro sentiments which means we had more data but ended up with a balanced data."
   ]
  },
  {
   "cell_type": "code",
   "execution_count": 22,
   "id": "e2d29dfa",
   "metadata": {
    "scrolled": true
   },
   "outputs": [
    {
     "data": {
      "text/plain": [
       "<AxesSubplot:xlabel='sentiment', ylabel='count'>"
      ]
     },
     "execution_count": 22,
     "metadata": {},
     "output_type": "execute_result"
    },
    {
     "data": {
      "image/png": "[encoded data removed]",
      "text/plain": [
       "<Figure size 432x288 with 1 Axes>"
      ]
     },
     "metadata": {},
     "output_type": "display_data"
    }
   ],
   "source": [
    "#Before balancing our data\n",
    "sns.set_style('whitegrid')\n",
    "sns.countplot(x='sentiment', data=df)"
   ]
  },
  {
   "cell_type": "code",
   "execution_count": 23,
   "id": "3462d2ba",
   "metadata": {},
   "outputs": [],
   "source": [
    "#Separate minority and majority classes and name the sentiments\n",
    "News=df[df['sentiment']=='News']\n",
    "Pro=df[df['sentiment']=='Pro']\n",
    "Neutral=df[df['sentiment']=='Neutral']\n",
    "Anti=df[df['sentiment']=='Anti']"
   ]
  },
  {
   "cell_type": "code",
   "execution_count": 24,
   "id": "2ada005a",
   "metadata": {},
   "outputs": [
    {
     "data": {
      "text/plain": [
       "(3640, 8530, 2353, 1296)"
      ]
     },
     "execution_count": 24,
     "metadata": {},
     "output_type": "execute_result"
    }
   ],
   "source": [
    "#Checking the lengths of all target values\n",
    "len(News), len(Pro), len(Neutral), len(Anti)"
   ]
  },
  {
   "cell_type": "markdown",
   "id": "e6df6029",
   "metadata": {},
   "source": [
    "With the varying target lengths, we discovered the data is imbalanced. We will balance the data using the upward resampling method"
   ]
  },
  {
   "cell_type": "code",
   "execution_count": 25,
   "id": "b4d786ac",
   "metadata": {},
   "outputs": [],
   "source": [
    "#Upsample the leading sentiment\n",
    "def sampling(x, y, z):\n",
    "    News_upsampled = resample(x,\n",
    "                              replace=True, # sample without replacement (no need to duplicate observations)\n",
    "                              n_samples=len(Pro), # match number in minority class\n",
    "                              random_state=27) # reproducible results\n",
    "    Neutral_upsampled = resample(y,\n",
    "                              replace=True, # sample without replacement (no need to duplicate observations)\n",
    "                              n_samples=len(Pro), # match number in minority class\n",
    "                              random_state=27) # reproducible results\n",
    "    Anti_upsampled = resample(z,\n",
    "                              replace=True, # sample without replacement (no need to duplicate observations)\n",
    "                              n_samples=len(Pro), # match number in minority class\n",
    "                              random_state=27) # reproducible results\n",
    "\n",
    "    # Combine downsampled majority class with minority class\n",
    "    final_downsampled = pd.concat([News_upsampled, Neutral_upsampled, Anti_upsampled, Pro])\n",
    "    return final_downsampled"
   ]
  },
  {
   "cell_type": "code",
   "execution_count": 26,
   "id": "ba0d83dd",
   "metadata": {},
   "outputs": [],
   "source": [
    "df1=sampling(News,Neutral,Anti)"
   ]
  },
  {
   "cell_type": "code",
   "execution_count": 27,
   "id": "137e89a6",
   "metadata": {
    "scrolled": true
   },
   "outputs": [
    {
     "data": {
      "text/html": [
       "<div>\n",
       "<style scoped>\n",
       "    .dataframe tbody tr th:only-of-type {\n",
       "        vertical-align: middle;\n",
       "    }\n",
       "\n",
       "    .dataframe tbody tr th {\n",
       "        vertical-align: top;\n",
       "    }\n",
       "\n",
       "    .dataframe thead th {\n",
       "        text-align: right;\n",
       "    }\n",
       "</style>\n",
       "<table border=\"1\" class=\"dataframe\">\n",
       "  <thead>\n",
       "    <tr style=\"text-align: right;\">\n",
       "      <th></th>\n",
       "      <th>sentiment</th>\n",
       "      <th>message</th>\n",
       "      <th>tweetid</th>\n",
       "      <th>length</th>\n",
       "      <th>tokenized</th>\n",
       "      <th>parts-of-speech</th>\n",
       "      <th>lemmatized</th>\n",
       "    </tr>\n",
       "  </thead>\n",
       "  <tbody>\n",
       "    <tr>\n",
       "      <th>4401</th>\n",
       "      <td>News</td>\n",
       "      <td>should canada go ahead with a carbon tax when ...</td>\n",
       "      <td>634603</td>\n",
       "      <td>103</td>\n",
       "      <td>[should, canada, go, ahead, with, a, carbon, t...</td>\n",
       "      <td>[(should, n), (canada, v), (go, v), (ahead, r)...</td>\n",
       "      <td>should canada go ahead with a carbon tax when ...</td>\n",
       "    </tr>\n",
       "    <tr>\n",
       "      <th>11162</th>\n",
       "      <td>News</td>\n",
       "      <td>rt interior scientist says the agency retaliat...</td>\n",
       "      <td>793130</td>\n",
       "      <td>96</td>\n",
       "      <td>[rt, interior, scientist, says, the, agency, r...</td>\n",
       "      <td>[(rt, n), (interior, a), (scientist, n), (says...</td>\n",
       "      <td>rt interior scientist say the agency retaliate...</td>\n",
       "    </tr>\n",
       "    <tr>\n",
       "      <th>3062</th>\n",
       "      <td>News</td>\n",
       "      <td>rt senator malcolm roberts to breitbart on cli...</td>\n",
       "      <td>990850</td>\n",
       "      <td>124</td>\n",
       "      <td>[rt, senator, malcolm, roberts, to, breitbart,...</td>\n",
       "      <td>[(rt, n), (senator, n), (malcolm, n), (roberts...</td>\n",
       "      <td>rt senator malcolm robert to breitbart on clim...</td>\n",
       "    </tr>\n",
       "    <tr>\n",
       "      <th>5669</th>\n",
       "      <td>News</td>\n",
       "      <td>rt for the third year in a row the carbon diox...</td>\n",
       "      <td>418438</td>\n",
       "      <td>113</td>\n",
       "      <td>[rt, for, the, third, year, in, a, row, the, c...</td>\n",
       "      <td>[(rt, n), (for, n), (the, n), (third, a), (yea...</td>\n",
       "      <td>rt for the third year in a row the carbon diox...</td>\n",
       "    </tr>\n",
       "    <tr>\n",
       "      <th>13403</th>\n",
       "      <td>News</td>\n",
       "      <td>rt john kerry leaves nz for mcmurdo amp south ...</td>\n",
       "      <td>29803</td>\n",
       "      <td>126</td>\n",
       "      <td>[rt, john, kerry, leaves, nz, for, mcmurdo, am...</td>\n",
       "      <td>[(rt, n), (john, n), (kerry, n), (leaves, v), ...</td>\n",
       "      <td>rt john kerry leave nz for mcmurdo amp south p...</td>\n",
       "    </tr>\n",
       "    <tr>\n",
       "      <th>...</th>\n",
       "      <td>...</td>\n",
       "      <td>...</td>\n",
       "      <td>...</td>\n",
       "      <td>...</td>\n",
       "      <td>...</td>\n",
       "      <td>...</td>\n",
       "      <td>...</td>\n",
       "    </tr>\n",
       "    <tr>\n",
       "      <th>15807</th>\n",
       "      <td>Pro</td>\n",
       "      <td>climate change comments would be like nasa say...</td>\n",
       "      <td>447067</td>\n",
       "      <td>121</td>\n",
       "      <td>[climate, change, comments, would, be, like, n...</td>\n",
       "      <td>[(climate, n), (change, n), (comments, n), (wo...</td>\n",
       "      <td>climate change comment would be like nasa say ...</td>\n",
       "    </tr>\n",
       "    <tr>\n",
       "      <th>15811</th>\n",
       "      <td>Pro</td>\n",
       "      <td>rt she s thinking about how she s going to die...</td>\n",
       "      <td>426353</td>\n",
       "      <td>108</td>\n",
       "      <td>[rt, she, s, thinking, about, how, she, s, goi...</td>\n",
       "      <td>[(rt, n), (she, n), (s, v), (thinking, v), (ab...</td>\n",
       "      <td>rt she s think about how she s go to die becau...</td>\n",
       "    </tr>\n",
       "    <tr>\n",
       "      <th>15812</th>\n",
       "      <td>Pro</td>\n",
       "      <td>rt hottest year in history also in members of ...</td>\n",
       "      <td>989478</td>\n",
       "      <td>86</td>\n",
       "      <td>[rt, hottest, year, in, history, also, in, mem...</td>\n",
       "      <td>[(rt, n), (hottest, a), (year, n), (in, n), (h...</td>\n",
       "      <td>rt hot year in history also in member of congr...</td>\n",
       "    </tr>\n",
       "    <tr>\n",
       "      <th>15813</th>\n",
       "      <td>Pro</td>\n",
       "      <td>rt epa head falsely claims carbon emissions ar...</td>\n",
       "      <td>442853</td>\n",
       "      <td>80</td>\n",
       "      <td>[rt, epa, head, falsely, claims, carbon, emiss...</td>\n",
       "      <td>[(rt, n), (epa, n), (head, n), (falsely, r), (...</td>\n",
       "      <td>rt epa head falsely claim carbon emission aren...</td>\n",
       "    </tr>\n",
       "    <tr>\n",
       "      <th>15814</th>\n",
       "      <td>Pro</td>\n",
       "      <td>rt they took down the material on global warmi...</td>\n",
       "      <td>22001</td>\n",
       "      <td>122</td>\n",
       "      <td>[rt, they, took, down, the, material, on, glob...</td>\n",
       "      <td>[(rt, n), (they, n), (took, v), (down, r), (th...</td>\n",
       "      <td>rt they take down the material on global warm ...</td>\n",
       "    </tr>\n",
       "  </tbody>\n",
       "</table>\n",
       "<p>34120 rows × 7 columns</p>\n",
       "</div>"
      ],
      "text/plain": [
       "      sentiment                                            message  tweetid  \\\n",
       "4401       News  should canada go ahead with a carbon tax when ...   634603   \n",
       "11162      News  rt interior scientist says the agency retaliat...   793130   \n",
       "3062       News  rt senator malcolm roberts to breitbart on cli...   990850   \n",
       "5669       News  rt for the third year in a row the carbon diox...   418438   \n",
       "13403      News  rt john kerry leaves nz for mcmurdo amp south ...    29803   \n",
       "...         ...                                                ...      ...   \n",
       "15807       Pro  climate change comments would be like nasa say...   447067   \n",
       "15811       Pro  rt she s thinking about how she s going to die...   426353   \n",
       "15812       Pro  rt hottest year in history also in members of ...   989478   \n",
       "15813       Pro  rt epa head falsely claims carbon emissions ar...   442853   \n",
       "15814       Pro  rt they took down the material on global warmi...    22001   \n",
       "\n",
       "       length                                          tokenized  \\\n",
       "4401      103  [should, canada, go, ahead, with, a, carbon, t...   \n",
       "11162      96  [rt, interior, scientist, says, the, agency, r...   \n",
       "3062      124  [rt, senator, malcolm, roberts, to, breitbart,...   \n",
       "5669      113  [rt, for, the, third, year, in, a, row, the, c...   \n",
       "13403     126  [rt, john, kerry, leaves, nz, for, mcmurdo, am...   \n",
       "...       ...                                                ...   \n",
       "15807     121  [climate, change, comments, would, be, like, n...   \n",
       "15811     108  [rt, she, s, thinking, about, how, she, s, goi...   \n",
       "15812      86  [rt, hottest, year, in, history, also, in, mem...   \n",
       "15813      80  [rt, epa, head, falsely, claims, carbon, emiss...   \n",
       "15814     122  [rt, they, took, down, the, material, on, glob...   \n",
       "\n",
       "                                         parts-of-speech  \\\n",
       "4401   [(should, n), (canada, v), (go, v), (ahead, r)...   \n",
       "11162  [(rt, n), (interior, a), (scientist, n), (says...   \n",
       "3062   [(rt, n), (senator, n), (malcolm, n), (roberts...   \n",
       "5669   [(rt, n), (for, n), (the, n), (third, a), (yea...   \n",
       "13403  [(rt, n), (john, n), (kerry, n), (leaves, v), ...   \n",
       "...                                                  ...   \n",
       "15807  [(climate, n), (change, n), (comments, n), (wo...   \n",
       "15811  [(rt, n), (she, n), (s, v), (thinking, v), (ab...   \n",
       "15812  [(rt, n), (hottest, a), (year, n), (in, n), (h...   \n",
       "15813  [(rt, n), (epa, n), (head, n), (falsely, r), (...   \n",
       "15814  [(rt, n), (they, n), (took, v), (down, r), (th...   \n",
       "\n",
       "                                              lemmatized  \n",
       "4401   should canada go ahead with a carbon tax when ...  \n",
       "11162  rt interior scientist say the agency retaliate...  \n",
       "3062   rt senator malcolm robert to breitbart on clim...  \n",
       "5669   rt for the third year in a row the carbon diox...  \n",
       "13403  rt john kerry leave nz for mcmurdo amp south p...  \n",
       "...                                                  ...  \n",
       "15807  climate change comment would be like nasa say ...  \n",
       "15811  rt she s think about how she s go to die becau...  \n",
       "15812  rt hot year in history also in member of congr...  \n",
       "15813  rt epa head falsely claim carbon emission aren...  \n",
       "15814  rt they take down the material on global warm ...  \n",
       "\n",
       "[34120 rows x 7 columns]"
      ]
     },
     "execution_count": 27,
     "metadata": {},
     "output_type": "execute_result"
    }
   ],
   "source": [
    "df1"
   ]
  },
  {
   "cell_type": "code",
   "execution_count": 28,
   "id": "bfeb8427",
   "metadata": {},
   "outputs": [
    {
     "data": {
      "text/plain": [
       "News       8530\n",
       "Anti       8530\n",
       "Pro        8530\n",
       "Neutral    8530\n",
       "Name: sentiment, dtype: int64"
      ]
     },
     "execution_count": 28,
     "metadata": {},
     "output_type": "execute_result"
    }
   ],
   "source": [
    "# Check new class counts\n",
    "df1['sentiment'].value_counts()"
   ]
  },
  {
   "cell_type": "code",
   "execution_count": 29,
   "id": "f93f3b89",
   "metadata": {
    "scrolled": true
   },
   "outputs": [
    {
     "data": {
      "text/plain": [
       "<AxesSubplot:xlabel='sentiment', ylabel='count'>"
      ]
     },
     "execution_count": 29,
     "metadata": {},
     "output_type": "execute_result"
    },
    {
     "data": {
      "image/png": "[encoded data removed]",
      "text/plain": [
       "<Figure size 432x288 with 1 Axes>"
      ]
     },
     "metadata": {},
     "output_type": "display_data"
    }
   ],
   "source": [
    "#After balancing the data\n",
    "sns.set_style('whitegrid')\n",
    "sns.countplot(x='sentiment', data=df1)"
   ]
  },
  {
   "cell_type": "markdown",
   "id": "392117ec",
   "metadata": {},
   "source": [
    "We upscaled the data to balance with the Pro sentiments."
   ]
  },
  {
   "cell_type": "markdown",
   "id": "b8b0753d",
   "metadata": {},
   "source": [
    "<a id=\"five\"></a>\n",
    "## 5. Modeling\n",
    "<a class=\"anchor\" id=\"1.1\"></a>\n",
    "<a href=#cont>Back to Table of Contents</a>\n",
    "\n",
    "---"
   ]
  },
  {
   "cell_type": "markdown",
   "id": "978c4890",
   "metadata": {},
   "source": [
    "A Machine Learning model is a program that has been trained to find patterns within new data and make predictions. These models are represented as a mathematical function that takes requests in the form of input data, makes predictions on input data, and then provides an output in response. First, these models are trained over a set of data, and then they are provided an algorithm to reason over data, extract the pattern from feed data and learn from those data. Once these models get trained, they can be used to predict the unseen dataset."
   ]
  },
  {
   "cell_type": "code",
   "execution_count": 30,
   "id": "2ab30c28",
   "metadata": {},
   "outputs": [],
   "source": [
    "#Defining the X and y variables for modelling\n",
    "X=df1['lemmatized']\n",
    "y=df1['sentiment']"
   ]
  },
  {
   "cell_type": "markdown",
   "id": "7553d07d",
   "metadata": {},
   "source": [
    "We split our Train data set into 80% train data and 20% test data. The train data would enable us build our model and the test data would enable our trained model to understand any unseen data."
   ]
  },
  {
   "cell_type": "code",
   "execution_count": 31,
   "id": "d51fcbc4",
   "metadata": {},
   "outputs": [],
   "source": [
    "#Splitting the data for training\n",
    "X_train, X_test, y_train, y_test = train_test_split(X, y, test_size=0.2, random_state = 42)"
   ]
  },
  {
   "cell_type": "markdown",
   "id": "250e663c",
   "metadata": {},
   "source": [
    "We decided to start our building our model with TfidfVectorizer. Term frequency-inverse document frequency is a text vectorizer that transforms the text into a usable vector. It combines 2 concepts, Term Frequency (TF) and Document Frequency (DF)."
   ]
  },
  {
   "cell_type": "code",
   "execution_count": 32,
   "id": "cf35bc89",
   "metadata": {},
   "outputs": [],
   "source": [
    "vect = TfidfVectorizer(stop_words = 'english', max_df=0.9, ngram_range=(2, 6), analyzer= 'char')\n",
    "X_train = vect.fit_transform(X_train)\n",
    "X_test = vect.transform(X_test)"
   ]
  },
  {
   "cell_type": "markdown",
   "id": "743888a6",
   "metadata": {},
   "source": [
    "<a id=\"six\"></a>\n",
    "## 6. Model Performance\n",
    "<a class=\"anchor\" id=\"1.1\"></a>\n",
    "<a href=#cont>Back to Table of Contents</a>\n",
    "\n",
    "---\n",
    "    \n",
    "| ⚡ Description: Model performance ⚡ |\n",
    "| :--------------------------- |\n",
    "| In this section you are required to compare the relative performance of the various trained ML models on a holdout dataset and comment on what model is the best and why. |\n",
    "\n",
    "---"
   ]
  },
  {
   "cell_type": "code",
   "execution_count": 33,
   "id": "ed8d6896",
   "metadata": {
    "scrolled": true
   },
   "outputs": [
    {
     "name": "stdout",
     "output_type": "stream",
     "text": [
      "The accuracy score of the MNB is: 0.7886869871043376\n",
      "\n",
      "\n",
      "Classification Report:\n",
      "\n",
      "               precision    recall  f1-score   support\n",
      "\n",
      "        Anti       0.78      0.95      0.85      1671\n",
      "     Neutral       0.88      0.67      0.76      1722\n",
      "        News       0.80      0.84      0.82      1707\n",
      "         Pro       0.72      0.71      0.72      1724\n",
      "\n",
      "    accuracy                           0.79      6824\n",
      "   macro avg       0.79      0.79      0.79      6824\n",
      "weighted avg       0.79      0.79      0.79      6824\n",
      "\n"
     ]
    }
   ],
   "source": [
    "#Classifying with the multinomial bayes\n",
    "mnb = MultinomialNB()\n",
    "mnb.fit(X_train, y_train)\n",
    "y_pred = mnb.predict(X_test)\n",
    "\n",
    "print(\"The accuracy score of the MNB is:\", accuracy_score(y_test, y_pred))\n",
    "print(\"\\n\\nClassification Report:\\n\\n\", classification_report(y_test, y_pred))"
   ]
  },
  {
   "cell_type": "markdown",
   "id": "a88c21b5",
   "metadata": {},
   "source": [
    "**Multinomial Bayes Classifier**\n",
    "It is used for discrete counts. For example, let’s say, we have a text classification problem. Here we can consider bernoulli trials which is one step further and instead of “word occurring in the document”, we have “count how often word occurs in the document”, you can think of it as “number of times outcome number x_i is observed over the n trials”.\n",
    "\n",
    "We get an accuracy f1-score of 0.88."
   ]
  },
  {
   "cell_type": "code",
   "execution_count": 34,
   "id": "0cb07c7b",
   "metadata": {
    "scrolled": true
   },
   "outputs": [
    {
     "name": "stderr",
     "output_type": "stream",
     "text": [
      "/Users/dianaokeyo/opt/anaconda3/lib/python3.8/site-packages/sklearn/linear_model/_logistic.py:814: ConvergenceWarning: lbfgs failed to converge (status=1):\n",
      "STOP: TOTAL NO. of ITERATIONS REACHED LIMIT.\n",
      "\n",
      "Increase the number of iterations (max_iter) or scale the data as shown in:\n",
      "    https://scikit-learn.org/stable/modules/preprocessing.html\n",
      "Please also refer to the documentation for alternative solver options:\n",
      "    https://scikit-learn.org/stable/modules/linear_model.html#logistic-regression\n",
      "  n_iter_i = _check_optimize_result(\n"
     ]
    },
    {
     "name": "stdout",
     "output_type": "stream",
     "text": [
      "The accuracy score of the log is: 0.8884818288393904\n",
      "\n",
      "\n",
      "Classification Report:\n",
      "\n",
      "               precision    recall  f1-score   support\n",
      "\n",
      "        Anti       0.92      0.98      0.95      1671\n",
      "     Neutral       0.88      0.90      0.89      1722\n",
      "        News       0.87      0.93      0.90      1707\n",
      "         Pro       0.87      0.75      0.81      1724\n",
      "\n",
      "    accuracy                           0.89      6824\n",
      "   macro avg       0.89      0.89      0.89      6824\n",
      "weighted avg       0.89      0.89      0.89      6824\n",
      "\n"
     ]
    }
   ],
   "source": [
    "#Classifying with logistic regression\n",
    "clf_log = LogisticRegression()\n",
    "clf_log.fit(X_train, y_train)\n",
    "y_pred_L = clf_log.predict(X_test)\n",
    "\n",
    "print(\"The accuracy score of the log is:\", accuracy_score(y_test, y_pred_L))\n",
    "print(\"\\n\\nClassification Report:\\n\\n\", classification_report(y_test, y_pred_L))"
   ]
  },
  {
   "cell_type": "markdown",
   "id": "dce777ef",
   "metadata": {},
   "source": [
    "**Logistic Regression** makes use of a common S-shaped curve known as the logistic function. This curve is commonly known as a sigmoid. It solves the problem for the following reasons:\n",
    "It squeezes the range of output values to exist only between 0 and 1.\n",
    "It has a point of inflection, which can be used to separate the feature space into two distinct areas (one for each class).\n",
    "It has shallow gradients at both its top and bottom, which can be mapped to zeroes or ones respectively with little ambiguity."
   ]
  },
  {
   "cell_type": "code",
   "execution_count": 35,
   "id": "2c74cd40",
   "metadata": {},
   "outputs": [
    {
     "name": "stdout",
     "output_type": "stream",
     "text": [
      "The accuracy score of the GNB is: 0.8036342321219226\n",
      "\n",
      "\n",
      "Classification Report:\n",
      "\n",
      "               precision    recall  f1-score   support\n",
      "\n",
      "        Anti       0.90      0.90      0.90      1671\n",
      "     Neutral       0.81      0.76      0.79      1722\n",
      "        News       0.74      0.88      0.80      1707\n",
      "         Pro       0.78      0.67      0.72      1724\n",
      "\n",
      "    accuracy                           0.80      6824\n",
      "   macro avg       0.81      0.80      0.80      6824\n",
      "weighted avg       0.81      0.80      0.80      6824\n",
      "\n"
     ]
    }
   ],
   "source": [
    "#Classifying with gaussion bernoulli\n",
    "gnb = BernoulliNB()\n",
    "gnb.fit(X_train, y_train)\n",
    "y_pred_B = gnb.predict(X_test)\n",
    "\n",
    "print(\"The accuracy score of the GNB is:\", accuracy_score(y_test, y_pred_B))\n",
    "print(\"\\n\\nClassification Report:\\n\\n\", classification_report(y_test, y_pred_B))"
   ]
  },
  {
   "cell_type": "markdown",
   "id": "99b7c380",
   "metadata": {},
   "source": [
    "**Gaussian** It is used in classification and it assumes that features follow a normal distribution. We get an accuracy f1-score of 0.80"
   ]
  },
  {
   "cell_type": "code",
   "execution_count": 36,
   "id": "be927f6e",
   "metadata": {
    "scrolled": true
   },
   "outputs": [
    {
     "name": "stdout",
     "output_type": "stream",
     "text": [
      "The accuracy score of the SVC is: 0.9535463071512309\n",
      "\n",
      "\n",
      "Classification Report:\n",
      "\n",
      "               precision    recall  f1-score   support\n",
      "\n",
      "        Anti       0.99      0.99      0.99      1671\n",
      "     Neutral       0.97      0.96      0.96      1722\n",
      "        News       0.93      0.96      0.95      1707\n",
      "         Pro       0.92      0.90      0.91      1724\n",
      "\n",
      "    accuracy                           0.95      6824\n",
      "   macro avg       0.95      0.95      0.95      6824\n",
      "weighted avg       0.95      0.95      0.95      6824\n",
      "\n"
     ]
    }
   ],
   "source": [
    "#Classifying with support vector classifier\n",
    "svc = SVC(kernel='rbf', C=12)\n",
    "svc.fit(X_train, y_train)\n",
    "y_pred = svc.predict(X_test)\n",
    "\n",
    "print(\"The accuracy score of the SVC is:\", accuracy_score(y_test, y_pred))\n",
    "print(\"\\n\\nClassification Report:\\n\\n\", classification_report(y_test, y_pred))"
   ]
  },
  {
   "cell_type": "markdown",
   "id": "56430d6e",
   "metadata": {},
   "source": [
    "**Support vector classifier** algorithm is to find a hyperplane in the N-dimensional space (N is the number of features) that distinctively classifies the data points. The objective is to find a plane that has the maximum margin i.e the maximum distance between data points of both classes."
   ]
  },
  {
   "cell_type": "markdown",
   "id": "54320fb8",
   "metadata": {},
   "source": [
    "## Prediction with unseen data"
   ]
  },
  {
   "cell_type": "code",
   "execution_count": 37,
   "id": "ddc1dabb",
   "metadata": {},
   "outputs": [
    {
     "data": {
      "text/html": [
       "<div>\n",
       "<style scoped>\n",
       "    .dataframe tbody tr th:only-of-type {\n",
       "        vertical-align: middle;\n",
       "    }\n",
       "\n",
       "    .dataframe tbody tr th {\n",
       "        vertical-align: top;\n",
       "    }\n",
       "\n",
       "    .dataframe thead th {\n",
       "        text-align: right;\n",
       "    }\n",
       "</style>\n",
       "<table border=\"1\" class=\"dataframe\">\n",
       "  <thead>\n",
       "    <tr style=\"text-align: right;\">\n",
       "      <th></th>\n",
       "      <th>message</th>\n",
       "      <th>tweetid</th>\n",
       "    </tr>\n",
       "  </thead>\n",
       "  <tbody>\n",
       "    <tr>\n",
       "      <th>0</th>\n",
       "      <td>Europe will now be looking to China to make su...</td>\n",
       "      <td>169760</td>\n",
       "    </tr>\n",
       "    <tr>\n",
       "      <th>1</th>\n",
       "      <td>Combine this with the polling of staffers re c...</td>\n",
       "      <td>35326</td>\n",
       "    </tr>\n",
       "    <tr>\n",
       "      <th>2</th>\n",
       "      <td>The scary, unimpeachable evidence that climate...</td>\n",
       "      <td>224985</td>\n",
       "    </tr>\n",
       "    <tr>\n",
       "      <th>3</th>\n",
       "      <td>@Karoli @morgfair @OsborneInk @dailykos \\nPuti...</td>\n",
       "      <td>476263</td>\n",
       "    </tr>\n",
       "    <tr>\n",
       "      <th>4</th>\n",
       "      <td>RT @FakeWillMoore: 'Female orgasms cause globa...</td>\n",
       "      <td>872928</td>\n",
       "    </tr>\n",
       "  </tbody>\n",
       "</table>\n",
       "</div>"
      ],
      "text/plain": [
       "                                             message  tweetid\n",
       "0  Europe will now be looking to China to make su...   169760\n",
       "1  Combine this with the polling of staffers re c...    35326\n",
       "2  The scary, unimpeachable evidence that climate...   224985\n",
       "3  @Karoli @morgfair @OsborneInk @dailykos \\nPuti...   476263\n",
       "4  RT @FakeWillMoore: 'Female orgasms cause globa...   872928"
      ]
     },
     "execution_count": 37,
     "metadata": {},
     "output_type": "execute_result"
    }
   ],
   "source": [
    "#Loading test data\n",
    "test_df =pd.read_csv('test_with_no_labels.csv') # load the data\n",
    "test_df.head()"
   ]
  },
  {
   "cell_type": "code",
   "execution_count": 38,
   "id": "d6dfdf30",
   "metadata": {},
   "outputs": [],
   "source": [
    "#Assigning values to tweetid\n",
    "tweetid = test_df.tweetid.values"
   ]
  },
  {
   "cell_type": "markdown",
   "id": "0157c035",
   "metadata": {},
   "source": [
    "## Cleaning the unseen data - test data"
   ]
  },
  {
   "cell_type": "code",
   "execution_count": 39,
   "id": "5b4fc7e3",
   "metadata": {},
   "outputs": [],
   "source": [
    "#Applying the text clean function on the test data\n",
    "test_df[\"message\"] = test_df[\"message\"].apply(cleaner)"
   ]
  },
  {
   "cell_type": "code",
   "execution_count": 40,
   "id": "2a2ddc0b",
   "metadata": {},
   "outputs": [],
   "source": [
    "#Applying the lemmatization, tokenization and parts-of-speech function to test data\n",
    "test_df = lemmatizer(test_df)"
   ]
  },
  {
   "cell_type": "code",
   "execution_count": 41,
   "id": "ad110f61",
   "metadata": {},
   "outputs": [
    {
     "data": {
      "text/html": [
       "<div>\n",
       "<style scoped>\n",
       "    .dataframe tbody tr th:only-of-type {\n",
       "        vertical-align: middle;\n",
       "    }\n",
       "\n",
       "    .dataframe tbody tr th {\n",
       "        vertical-align: top;\n",
       "    }\n",
       "\n",
       "    .dataframe thead th {\n",
       "        text-align: right;\n",
       "    }\n",
       "</style>\n",
       "<table border=\"1\" class=\"dataframe\">\n",
       "  <thead>\n",
       "    <tr style=\"text-align: right;\">\n",
       "      <th></th>\n",
       "      <th>message</th>\n",
       "      <th>tweetid</th>\n",
       "      <th>length</th>\n",
       "      <th>tokenized</th>\n",
       "      <th>parts-of-speech</th>\n",
       "      <th>lemmatized</th>\n",
       "    </tr>\n",
       "  </thead>\n",
       "  <tbody>\n",
       "    <tr>\n",
       "      <th>0</th>\n",
       "      <td>europe will now be looking to china to make su...</td>\n",
       "      <td>169760</td>\n",
       "      <td>98</td>\n",
       "      <td>[europe, will, now, be, looking, to, china, to...</td>\n",
       "      <td>[(europe, n), (will, n), (now, r), (be, v), (l...</td>\n",
       "      <td>europe will now be look to china to make sure ...</td>\n",
       "    </tr>\n",
       "    <tr>\n",
       "      <th>1</th>\n",
       "      <td>combine this with the polling of staffers re c...</td>\n",
       "      <td>35326</td>\n",
       "      <td>107</td>\n",
       "      <td>[combine, this, with, the, polling, of, staffe...</td>\n",
       "      <td>[(combine, n), (this, n), (with, n), (the, n),...</td>\n",
       "      <td>combine this with the polling of staffer re cl...</td>\n",
       "    </tr>\n",
       "    <tr>\n",
       "      <th>2</th>\n",
       "      <td>the scary unimpeachable evidence that climate ...</td>\n",
       "      <td>224985</td>\n",
       "      <td>69</td>\n",
       "      <td>[the, scary, unimpeachable, evidence, that, cl...</td>\n",
       "      <td>[(the, n), (scary, a), (unimpeachable, a), (ev...</td>\n",
       "      <td>the scary unimpeachable evidence that climate ...</td>\n",
       "    </tr>\n",
       "  </tbody>\n",
       "</table>\n",
       "</div>"
      ],
      "text/plain": [
       "                                             message  tweetid  length  \\\n",
       "0  europe will now be looking to china to make su...   169760      98   \n",
       "1  combine this with the polling of staffers re c...    35326     107   \n",
       "2  the scary unimpeachable evidence that climate ...   224985      69   \n",
       "\n",
       "                                           tokenized  \\\n",
       "0  [europe, will, now, be, looking, to, china, to...   \n",
       "1  [combine, this, with, the, polling, of, staffe...   \n",
       "2  [the, scary, unimpeachable, evidence, that, cl...   \n",
       "\n",
       "                                     parts-of-speech  \\\n",
       "0  [(europe, n), (will, n), (now, r), (be, v), (l...   \n",
       "1  [(combine, n), (this, n), (with, n), (the, n),...   \n",
       "2  [(the, n), (scary, a), (unimpeachable, a), (ev...   \n",
       "\n",
       "                                          lemmatized  \n",
       "0  europe will now be look to china to make sure ...  \n",
       "1  combine this with the polling of staffer re cl...  \n",
       "2  the scary unimpeachable evidence that climate ...  "
      ]
     },
     "execution_count": 41,
     "metadata": {},
     "output_type": "execute_result"
    }
   ],
   "source": [
    "test_df.head(3)"
   ]
  },
  {
   "cell_type": "code",
   "execution_count": 42,
   "id": "7b7471b9",
   "metadata": {},
   "outputs": [],
   "source": [
    "#using the fitted vocabulary to build a document-term matrix from the data.\n",
    "test_x_vecs = vect.transform(X)"
   ]
  },
  {
   "cell_type": "markdown",
   "id": "58eea14b",
   "metadata": {},
   "source": [
    "<a id=\"six\"></a>\n",
    "## 6. Classifier Model Selection\n",
    "<a class=\"anchor\" id=\"1.1\"></a>\n",
    "<a href=#cont>Back to Table of Contents</a>\n",
    "\n",
    "---"
   ]
  },
  {
   "cell_type": "markdown",
   "id": "999f0044",
   "metadata": {},
   "source": [
    "Based on how the models performed on the train dataset, we classified the test data with the support vector classifier, logistic regression and GnB. The support vector classifier performed well with the train data and we applied the same on the test data"
   ]
  },
  {
   "cell_type": "code",
   "execution_count": 43,
   "id": "183efbe1",
   "metadata": {},
   "outputs": [],
   "source": [
    "#Modelling the test data with support vector classifier\n",
    "y_pred_s = svc.predict(test_x_vecs)"
   ]
  },
  {
   "cell_type": "code",
   "execution_count": 44,
   "id": "70608461",
   "metadata": {},
   "outputs": [],
   "source": [
    "#Modeling the test data with the logistric regression classifier\n",
    "y_pred_L = clf_log.predict(test_x_vecs)"
   ]
  },
  {
   "cell_type": "code",
   "execution_count": 45,
   "id": "fb737f10",
   "metadata": {},
   "outputs": [],
   "source": [
    "#Modelling the test data with gnb classifier\n",
    "y_pred_b = gnb.predict(test_x_vecs)"
   ]
  },
  {
   "cell_type": "markdown",
   "id": "a2cb99c6",
   "metadata": {},
   "source": [
    "## Kaggle Submission"
   ]
  },
  {
   "cell_type": "markdown",
   "id": "27155a8c",
   "metadata": {},
   "source": [
    "For the submissio we used the predictions made with the support vector classifier, with the tweetid and sentiment as columns."
   ]
  },
  {
   "cell_type": "code",
   "execution_count": 46,
   "id": "79d9bbda",
   "metadata": {
    "scrolled": false
   },
   "outputs": [
    {
     "data": {
      "text/html": [
       "<div>\n",
       "<style scoped>\n",
       "    .dataframe tbody tr th:only-of-type {\n",
       "        vertical-align: middle;\n",
       "    }\n",
       "\n",
       "    .dataframe tbody tr th {\n",
       "        vertical-align: top;\n",
       "    }\n",
       "\n",
       "    .dataframe thead th {\n",
       "        text-align: right;\n",
       "    }\n",
       "</style>\n",
       "<table border=\"1\" class=\"dataframe\">\n",
       "  <thead>\n",
       "    <tr style=\"text-align: right;\">\n",
       "      <th></th>\n",
       "      <th>tweetid</th>\n",
       "      <th>sentiment</th>\n",
       "    </tr>\n",
       "  </thead>\n",
       "  <tbody>\n",
       "    <tr>\n",
       "      <th>0</th>\n",
       "      <td>169760</td>\n",
       "      <td>News</td>\n",
       "    </tr>\n",
       "    <tr>\n",
       "      <th>1</th>\n",
       "      <td>35326</td>\n",
       "      <td>News</td>\n",
       "    </tr>\n",
       "    <tr>\n",
       "      <th>2</th>\n",
       "      <td>224985</td>\n",
       "      <td>News</td>\n",
       "    </tr>\n",
       "    <tr>\n",
       "      <th>3</th>\n",
       "      <td>476263</td>\n",
       "      <td>News</td>\n",
       "    </tr>\n",
       "    <tr>\n",
       "      <th>4</th>\n",
       "      <td>872928</td>\n",
       "      <td>News</td>\n",
       "    </tr>\n",
       "  </tbody>\n",
       "</table>\n",
       "</div>"
      ],
      "text/plain": [
       "   tweetid sentiment\n",
       "0   169760      News\n",
       "1    35326      News\n",
       "2   224985      News\n",
       "3   476263      News\n",
       "4   872928      News"
      ]
     },
     "execution_count": 46,
     "metadata": {},
     "output_type": "execute_result"
    }
   ],
   "source": [
    "submission = pd.DataFrame(list(zip(tweetid, y_pred_s)), columns = ['tweetid','sentiment'])\n",
    "submission.head()"
   ]
  },
  {
   "cell_type": "code",
   "execution_count": 47,
   "id": "42c06c46",
   "metadata": {},
   "outputs": [
    {
     "data": {
      "text/plain": [
       "(10546, 2)"
      ]
     },
     "execution_count": 47,
     "metadata": {},
     "output_type": "execute_result"
    }
   ],
   "source": [
    "submission.shape"
   ]
  },
  {
   "cell_type": "code",
   "execution_count": 48,
   "id": "aad707b3",
   "metadata": {},
   "outputs": [],
   "source": [
    "#submission.to_csv('New submission1.csv', index_label = False, index = False)"
   ]
  },
  {
   "cell_type": "code",
   "execution_count": 49,
   "id": "f7158bed",
   "metadata": {
    "scrolled": true
   },
   "outputs": [
    {
     "name": "stderr",
     "output_type": "stream",
     "text": [
      "COMET INFO: ---------------------------\n",
      "COMET INFO: Comet.ml Experiment Summary\n",
      "COMET INFO: ---------------------------\n",
      "COMET INFO:   Data:\n",
      "COMET INFO:     display_summary_level : 1\n",
      "COMET INFO:     url                   : https://www.comet.ml/deelianne/general/07a6dcc2646f4461b41dde8bc06d283b\n",
      "COMET INFO:   Parameters:\n",
      "COMET INFO:     C                       : 12\n",
      "COMET INFO:     alpha                   : 1.0\n",
      "COMET INFO:     binarize                : 0.0\n",
      "COMET INFO:     break_ties              : False\n",
      "COMET INFO:     cache_size              : 200\n",
      "COMET INFO:     class_prior             : 1\n",
      "COMET INFO:     class_weight            : 1\n",
      "COMET INFO:     coef0                   : 0.0\n",
      "COMET INFO:     decision_function_shape : ovr\n",
      "COMET INFO:     degree                  : 3\n",
      "COMET INFO:     dual                    : False\n",
      "COMET INFO:     fit_intercept           : True\n",
      "COMET INFO:     fit_prior               : True\n",
      "COMET INFO:     gamma                   : scale\n",
      "COMET INFO:     intercept_scaling       : 1\n",
      "COMET INFO:     kernel                  : rbf\n",
      "COMET INFO:     l1_ratio                : 1\n",
      "COMET INFO:     max_iter                : -1\n",
      "COMET INFO:     multi_class             : auto\n",
      "COMET INFO:     n_jobs                  : 1\n",
      "COMET INFO:     neg_label               : 0\n",
      "COMET INFO:     norm                    : l2\n",
      "COMET INFO:     penalty                 : l2\n",
      "COMET INFO:     pos_label               : 1\n",
      "COMET INFO:     probability             : False\n",
      "COMET INFO:     random_state            : 1\n",
      "COMET INFO:     shrinking               : True\n",
      "COMET INFO:     smooth_idf              : True\n",
      "COMET INFO:     solver                  : lbfgs\n",
      "COMET INFO:     sparse_output           : False\n",
      "COMET INFO:     sublinear_tf            : False\n",
      "COMET INFO:     tol                     : 0.001\n",
      "COMET INFO:     use_idf                 : True\n",
      "COMET INFO:     verbose                 : 0\n",
      "COMET INFO:     warm_start              : False\n",
      "COMET INFO:   Uploads:\n",
      "COMET INFO:     conda-info          : 1\n",
      "COMET INFO:     conda-specification : 1\n",
      "COMET INFO:     environment details : 1\n",
      "COMET INFO:     filename            : 1\n",
      "COMET INFO:     git metadata        : 1\n",
      "COMET INFO:     installed packages  : 1\n",
      "COMET INFO:     notebook            : 1\n",
      "COMET INFO:     source_code         : 1\n",
      "COMET INFO: ---------------------------\n",
      "COMET INFO: Uploading metrics, params, and assets to Comet before program termination (may take several seconds)\n",
      "COMET INFO: The Python SDK has 3600 seconds to finish before aborting...\n",
      "COMET INFO: Waiting for completion of the file uploads (may take several seconds)\n",
      "COMET INFO: The Python SDK has 10800 seconds to finish before aborting...\n",
      "COMET INFO: All files uploaded, waiting for confirmation they have been all received\n"
     ]
    }
   ],
   "source": [
    "experiment.end()"
   ]
  },
  {
   "cell_type": "markdown",
   "id": "bfe6b13f",
   "metadata": {},
   "source": [
    "## Creating files to use for the streamlit app"
   ]
  },
  {
   "cell_type": "code",
   "execution_count": 52,
   "id": "3d2cf70d",
   "metadata": {},
   "outputs": [],
   "source": [
    "import pickle\n",
    "model_save_path = \"SVC.pkl\"\n",
    "with open(model_save_path,'wb') as file:\n",
    "    pickle.dump(y_pred_s,file)"
   ]
  },
  {
   "cell_type": "code",
   "execution_count": 53,
   "id": "95be564f",
   "metadata": {},
   "outputs": [],
   "source": [
    "model_save_path = \"gnb.pkl\"\n",
    "with open(model_save_path,'wb') as file:\n",
    "    pickle.dump(y_pred_b,file)"
   ]
  },
  {
   "cell_type": "code",
   "execution_count": 54,
   "id": "d3d07622",
   "metadata": {},
   "outputs": [],
   "source": [
    "model_save_path = \"log_regression.pkl\"\n",
    "with open(model_save_path,'wb') as file:\n",
    "    pickle.dump(y_pred_L,file)"
   ]
  },
  {
   "cell_type": "code",
   "execution_count": null,
   "id": "c50fa442",
   "metadata": {},
   "outputs": [],
   "source": []
  }
 ],
 "metadata": {
  "kernelspec": {
   "display_name": "Python 3",
   "language": "python",
   "name": "python3"
  },
  "language_info": {
   "codemirror_mode": {
    "name": "ipython",
    "version": 3
   },
   "file_extension": ".py",
   "mimetype": "text/x-python",
   "name": "python",
   "nbconvert_exporter": "python",
   "pygments_lexer": "ipython3",
   "version": "3.8.8"
  }
 },
 "nbformat": 4,
 "nbformat_minor": 5
}
